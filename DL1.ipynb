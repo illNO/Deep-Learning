{
  "nbformat": 4,
  "nbformat_minor": 0,
  "metadata": {
    "colab": {
      "name": "DL1.ipynb",
      "provenance": [],
      "collapsed_sections": [],
      "mount_file_id": "110xSjNBYt54jWSFPI8xCnDp-8pL4xvdR",
      "authorship_tag": "ABX9TyOsDtuUv94Rln0ytJK7Wusw"
    },
    "kernelspec": {
      "name": "python3",
      "display_name": "Python 3"
    },
    "language_info": {
      "name": "python"
    },
    "accelerator": "GPU"
  },
  "cells": [
    {
      "cell_type": "code",
      "metadata": {
        "id": "A3rc2Ykb79dd",
        "colab": {
          "base_uri": "https://localhost:8080/"
        },
        "outputId": "6699313e-1069-4f4a-ae8f-64e7df9ac969"
      },
      "source": [
        "from google.colab import drive\n",
        "drive.mount('/content/drive')"
      ],
      "execution_count": null,
      "outputs": [
        {
          "output_type": "stream",
          "name": "stdout",
          "text": [
            "Drive already mounted at /content/drive; to attempt to forcibly remount, call drive.mount(\"/content/drive\", force_remount=True).\n"
          ]
        }
      ]
    },
    {
      "cell_type": "code",
      "metadata": {
        "colab": {
          "base_uri": "https://localhost:8080/"
        },
        "id": "4GJ-bNhm8ePC",
        "outputId": "b11fb7d3-f04e-4aed-cdb8-dcf5c9cb824d"
      },
      "source": [
        "!ls"
      ],
      "execution_count": null,
      "outputs": [
        {
          "output_type": "stream",
          "name": "stdout",
          "text": [
            "drive  sample_data\n"
          ]
        }
      ]
    },
    {
      "cell_type": "code",
      "metadata": {
        "id": "_jr6mxaP8etg"
      },
      "source": [
        "import pandas as pd\n",
        "import tensorflow as tf\n",
        "\n",
        "from keras.models import Sequential\n",
        "from keras.layers import Dense, Dropout, BatchNormalization\n",
        "\n",
        "from sklearn.model_selection import train_test_split\n",
        "from sklearn.linear_model import LinearRegression\n",
        "from sklearn.preprocessing import LabelEncoder, OrdinalEncoder, MinMaxScaler\n",
        "\n",
        "import matplotlib.pyplot as plt"
      ],
      "execution_count": null,
      "outputs": []
    },
    {
      "cell_type": "code",
      "metadata": {
        "id": "G92v2AGiu1os"
      },
      "source": [
        "tips = pd.read_csv('drive/MyDrive/Educ/5 Course/DL/tips.csv')\n",
        "\n",
        "tips"
      ],
      "execution_count": null,
      "outputs": []
    },
    {
      "cell_type": "code",
      "metadata": {
        "colab": {
          "base_uri": "https://localhost:8080/",
          "height": 316
        },
        "id": "MnAvu3-sA-pC",
        "outputId": "e08a9f4a-50cc-499c-e971-d525e7ef5cf2"
      },
      "source": [
        "x = tips['tip'] \n",
        "plt.hist(x, bins = 10)"
      ],
      "execution_count": null,
      "outputs": [
        {
          "output_type": "execute_result",
          "data": {
            "text/plain": [
              "(array([41., 79., 66., 27., 19.,  5.,  4.,  1.,  1.,  1.]),\n",
              " array([ 1. ,  1.9,  2.8,  3.7,  4.6,  5.5,  6.4,  7.3,  8.2,  9.1, 10. ]),\n",
              " <a list of 10 Patch objects>)"
            ]
          },
          "metadata": {},
          "execution_count": 42
        },
        {
          "output_type": "display_data",
          "data": {
            "image/png": "[encoded data removed]",
            "text/plain": [
              "<Figure size 432x288 with 1 Axes>"
            ]
          },
          "metadata": {
            "needs_background": "light"
          }
        }
      ]
    },
    {
      "cell_type": "code",
      "metadata": {
        "colab": {
          "base_uri": "https://localhost:8080/"
        },
        "id": "hUdXzmE0vyXU",
        "outputId": "38e39cba-d325-48da-b10e-83188d3c99a1"
      },
      "source": [
        "tips.nunique()"
      ],
      "execution_count": null,
      "outputs": [
        {
          "output_type": "execute_result",
          "data": {
            "text/plain": [
              "total_bill    229\n",
              "tip           123\n",
              "sex             2\n",
              "smoker          2\n",
              "day             4\n",
              "time            2\n",
              "size            6\n",
              "dtype: int64"
            ]
          },
          "metadata": {},
          "execution_count": 5
        }
      ]
    },
    {
      "cell_type": "code",
      "metadata": {
        "colab": {
          "base_uri": "https://localhost:8080/",
          "height": 419
        },
        "id": "zOWXKH4Ovkxh",
        "outputId": "5fef0033-8152-4b13-93e3-2db53c7bb462"
      },
      "source": [
        "oe = OrdinalEncoder()\n",
        "tips[\"sex_cat\"] = oe.fit_transform(tips[[\"sex\"]])\n",
        "tips[\"smoker_cat\"] = oe.fit_transform(tips[[\"smoker\"]])\n",
        "tips[\"day_cat\"] = oe.fit_transform(tips[[\"day\"]])\n",
        "tips[\"time_cat\"] = oe.fit_transform(tips[[\"time\"]])\n",
        "\n",
        "tips"
      ],
      "execution_count": null,
      "outputs": [
        {
          "output_type": "execute_result",
          "data": {
            "text/html": [
              "<div>\n",
              "<style scoped>\n",
              "    .dataframe tbody tr th:only-of-type {\n",
              "        vertical-align: middle;\n",
              "    }\n",
              "\n",
              "    .dataframe tbody tr th {\n",
              "        vertical-align: top;\n",
              "    }\n",
              "\n",
              "    .dataframe thead th {\n",
              "        text-align: right;\n",
              "    }\n",
              "</style>\n",
              "<table border=\"1\" class=\"dataframe\">\n",
              "  <thead>\n",
              "    <tr style=\"text-align: right;\">\n",
              "      <th></th>\n",
              "      <th>total_bill</th>\n",
              "      <th>tip</th>\n",
              "      <th>sex</th>\n",
              "      <th>smoker</th>\n",
              "      <th>day</th>\n",
              "      <th>time</th>\n",
              "      <th>size</th>\n",
              "      <th>sex_cat</th>\n",
              "      <th>smoker_cat</th>\n",
              "      <th>day_cat</th>\n",
              "      <th>time_cat</th>\n",
              "    </tr>\n",
              "  </thead>\n",
              "  <tbody>\n",
              "    <tr>\n",
              "      <th>0</th>\n",
              "      <td>16.99</td>\n",
              "      <td>1.01</td>\n",
              "      <td>Female</td>\n",
              "      <td>No</td>\n",
              "      <td>Sun</td>\n",
              "      <td>Dinner</td>\n",
              "      <td>2</td>\n",
              "      <td>0.0</td>\n",
              "      <td>0.0</td>\n",
              "      <td>2.0</td>\n",
              "      <td>0.0</td>\n",
              "    </tr>\n",
              "    <tr>\n",
              "      <th>1</th>\n",
              "      <td>10.34</td>\n",
              "      <td>1.66</td>\n",
              "      <td>Male</td>\n",
              "      <td>No</td>\n",
              "      <td>Sun</td>\n",
              "      <td>Dinner</td>\n",
              "      <td>3</td>\n",
              "      <td>1.0</td>\n",
              "      <td>0.0</td>\n",
              "      <td>2.0</td>\n",
              "      <td>0.0</td>\n",
              "    </tr>\n",
              "    <tr>\n",
              "      <th>2</th>\n",
              "      <td>21.01</td>\n",
              "      <td>3.50</td>\n",
              "      <td>Male</td>\n",
              "      <td>No</td>\n",
              "      <td>Sun</td>\n",
              "      <td>Dinner</td>\n",
              "      <td>3</td>\n",
              "      <td>1.0</td>\n",
              "      <td>0.0</td>\n",
              "      <td>2.0</td>\n",
              "      <td>0.0</td>\n",
              "    </tr>\n",
              "    <tr>\n",
              "      <th>3</th>\n",
              "      <td>23.68</td>\n",
              "      <td>3.31</td>\n",
              "      <td>Male</td>\n",
              "      <td>No</td>\n",
              "      <td>Sun</td>\n",
              "      <td>Dinner</td>\n",
              "      <td>2</td>\n",
              "      <td>1.0</td>\n",
              "      <td>0.0</td>\n",
              "      <td>2.0</td>\n",
              "      <td>0.0</td>\n",
              "    </tr>\n",
              "    <tr>\n",
              "      <th>4</th>\n",
              "      <td>24.59</td>\n",
              "      <td>3.61</td>\n",
              "      <td>Female</td>\n",
              "      <td>No</td>\n",
              "      <td>Sun</td>\n",
              "      <td>Dinner</td>\n",
              "      <td>4</td>\n",
              "      <td>0.0</td>\n",
              "      <td>0.0</td>\n",
              "      <td>2.0</td>\n",
              "      <td>0.0</td>\n",
              "    </tr>\n",
              "    <tr>\n",
              "      <th>...</th>\n",
              "      <td>...</td>\n",
              "      <td>...</td>\n",
              "      <td>...</td>\n",
              "      <td>...</td>\n",
              "      <td>...</td>\n",
              "      <td>...</td>\n",
              "      <td>...</td>\n",
              "      <td>...</td>\n",
              "      <td>...</td>\n",
              "      <td>...</td>\n",
              "      <td>...</td>\n",
              "    </tr>\n",
              "    <tr>\n",
              "      <th>239</th>\n",
              "      <td>29.03</td>\n",
              "      <td>5.92</td>\n",
              "      <td>Male</td>\n",
              "      <td>No</td>\n",
              "      <td>Sat</td>\n",
              "      <td>Dinner</td>\n",
              "      <td>3</td>\n",
              "      <td>1.0</td>\n",
              "      <td>0.0</td>\n",
              "      <td>1.0</td>\n",
              "      <td>0.0</td>\n",
              "    </tr>\n",
              "    <tr>\n",
              "      <th>240</th>\n",
              "      <td>27.18</td>\n",
              "      <td>2.00</td>\n",
              "      <td>Female</td>\n",
              "      <td>Yes</td>\n",
              "      <td>Sat</td>\n",
              "      <td>Dinner</td>\n",
              "      <td>2</td>\n",
              "      <td>0.0</td>\n",
              "      <td>1.0</td>\n",
              "      <td>1.0</td>\n",
              "      <td>0.0</td>\n",
              "    </tr>\n",
              "    <tr>\n",
              "      <th>241</th>\n",
              "      <td>22.67</td>\n",
              "      <td>2.00</td>\n",
              "      <td>Male</td>\n",
              "      <td>Yes</td>\n",
              "      <td>Sat</td>\n",
              "      <td>Dinner</td>\n",
              "      <td>2</td>\n",
              "      <td>1.0</td>\n",
              "      <td>1.0</td>\n",
              "      <td>1.0</td>\n",
              "      <td>0.0</td>\n",
              "    </tr>\n",
              "    <tr>\n",
              "      <th>242</th>\n",
              "      <td>17.82</td>\n",
              "      <td>1.75</td>\n",
              "      <td>Male</td>\n",
              "      <td>No</td>\n",
              "      <td>Sat</td>\n",
              "      <td>Dinner</td>\n",
              "      <td>2</td>\n",
              "      <td>1.0</td>\n",
              "      <td>0.0</td>\n",
              "      <td>1.0</td>\n",
              "      <td>0.0</td>\n",
              "    </tr>\n",
              "    <tr>\n",
              "      <th>243</th>\n",
              "      <td>18.78</td>\n",
              "      <td>3.00</td>\n",
              "      <td>Female</td>\n",
              "      <td>No</td>\n",
              "      <td>Thur</td>\n",
              "      <td>Dinner</td>\n",
              "      <td>2</td>\n",
              "      <td>0.0</td>\n",
              "      <td>0.0</td>\n",
              "      <td>3.0</td>\n",
              "      <td>0.0</td>\n",
              "    </tr>\n",
              "  </tbody>\n",
              "</table>\n",
              "<p>244 rows × 11 columns</p>\n",
              "</div>"
            ],
            "text/plain": [
              "     total_bill   tip     sex smoker  ... sex_cat smoker_cat  day_cat  time_cat\n",
              "0         16.99  1.01  Female     No  ...     0.0        0.0      2.0       0.0\n",
              "1         10.34  1.66    Male     No  ...     1.0        0.0      2.0       0.0\n",
              "2         21.01  3.50    Male     No  ...     1.0        0.0      2.0       0.0\n",
              "3         23.68  3.31    Male     No  ...     1.0        0.0      2.0       0.0\n",
              "4         24.59  3.61  Female     No  ...     0.0        0.0      2.0       0.0\n",
              "..          ...   ...     ...    ...  ...     ...        ...      ...       ...\n",
              "239       29.03  5.92    Male     No  ...     1.0        0.0      1.0       0.0\n",
              "240       27.18  2.00  Female    Yes  ...     0.0        1.0      1.0       0.0\n",
              "241       22.67  2.00    Male    Yes  ...     1.0        1.0      1.0       0.0\n",
              "242       17.82  1.75    Male     No  ...     1.0        0.0      1.0       0.0\n",
              "243       18.78  3.00  Female     No  ...     0.0        0.0      3.0       0.0\n",
              "\n",
              "[244 rows x 11 columns]"
            ]
          },
          "metadata": {},
          "execution_count": 6
        }
      ]
    },
    {
      "cell_type": "code",
      "metadata": {
        "id": "ceSsBqHv8eyu"
      },
      "source": [
        "data = pd.read_csv('drive/MyDrive/Educ/5 Course/DL/hourly_wages_data.csv')"
      ],
      "execution_count": null,
      "outputs": []
    },
    {
      "cell_type": "code",
      "metadata": {
        "colab": {
          "base_uri": "https://localhost:8080/",
          "height": 419
        },
        "id": "6fN0hZGj8e4-",
        "outputId": "f97e21ec-0760-4d16-d1b4-8c5521a1fa2e"
      },
      "source": [
        "data"
      ],
      "execution_count": null,
      "outputs": [
        {
          "output_type": "execute_result",
          "data": {
            "text/html": [
              "<div>\n",
              "<style scoped>\n",
              "    .dataframe tbody tr th:only-of-type {\n",
              "        vertical-align: middle;\n",
              "    }\n",
              "\n",
              "    .dataframe tbody tr th {\n",
              "        vertical-align: top;\n",
              "    }\n",
              "\n",
              "    .dataframe thead th {\n",
              "        text-align: right;\n",
              "    }\n",
              "</style>\n",
              "<table border=\"1\" class=\"dataframe\">\n",
              "  <thead>\n",
              "    <tr style=\"text-align: right;\">\n",
              "      <th></th>\n",
              "      <th>wage_per_hour</th>\n",
              "      <th>union</th>\n",
              "      <th>education_yrs</th>\n",
              "      <th>experience_yrs</th>\n",
              "      <th>age</th>\n",
              "      <th>female</th>\n",
              "      <th>marr</th>\n",
              "      <th>south</th>\n",
              "      <th>manufacturing</th>\n",
              "      <th>construction</th>\n",
              "    </tr>\n",
              "  </thead>\n",
              "  <tbody>\n",
              "    <tr>\n",
              "      <th>0</th>\n",
              "      <td>5.10</td>\n",
              "      <td>0</td>\n",
              "      <td>8</td>\n",
              "      <td>21</td>\n",
              "      <td>35</td>\n",
              "      <td>1</td>\n",
              "      <td>1</td>\n",
              "      <td>0</td>\n",
              "      <td>1</td>\n",
              "      <td>0</td>\n",
              "    </tr>\n",
              "    <tr>\n",
              "      <th>1</th>\n",
              "      <td>4.95</td>\n",
              "      <td>0</td>\n",
              "      <td>9</td>\n",
              "      <td>42</td>\n",
              "      <td>57</td>\n",
              "      <td>1</td>\n",
              "      <td>1</td>\n",
              "      <td>0</td>\n",
              "      <td>1</td>\n",
              "      <td>0</td>\n",
              "    </tr>\n",
              "    <tr>\n",
              "      <th>2</th>\n",
              "      <td>6.67</td>\n",
              "      <td>0</td>\n",
              "      <td>12</td>\n",
              "      <td>1</td>\n",
              "      <td>19</td>\n",
              "      <td>0</td>\n",
              "      <td>0</td>\n",
              "      <td>0</td>\n",
              "      <td>1</td>\n",
              "      <td>0</td>\n",
              "    </tr>\n",
              "    <tr>\n",
              "      <th>3</th>\n",
              "      <td>4.00</td>\n",
              "      <td>0</td>\n",
              "      <td>12</td>\n",
              "      <td>4</td>\n",
              "      <td>22</td>\n",
              "      <td>0</td>\n",
              "      <td>0</td>\n",
              "      <td>0</td>\n",
              "      <td>0</td>\n",
              "      <td>0</td>\n",
              "    </tr>\n",
              "    <tr>\n",
              "      <th>4</th>\n",
              "      <td>7.50</td>\n",
              "      <td>0</td>\n",
              "      <td>12</td>\n",
              "      <td>17</td>\n",
              "      <td>35</td>\n",
              "      <td>0</td>\n",
              "      <td>1</td>\n",
              "      <td>0</td>\n",
              "      <td>0</td>\n",
              "      <td>0</td>\n",
              "    </tr>\n",
              "    <tr>\n",
              "      <th>...</th>\n",
              "      <td>...</td>\n",
              "      <td>...</td>\n",
              "      <td>...</td>\n",
              "      <td>...</td>\n",
              "      <td>...</td>\n",
              "      <td>...</td>\n",
              "      <td>...</td>\n",
              "      <td>...</td>\n",
              "      <td>...</td>\n",
              "      <td>...</td>\n",
              "    </tr>\n",
              "    <tr>\n",
              "      <th>529</th>\n",
              "      <td>11.36</td>\n",
              "      <td>0</td>\n",
              "      <td>18</td>\n",
              "      <td>5</td>\n",
              "      <td>29</td>\n",
              "      <td>0</td>\n",
              "      <td>0</td>\n",
              "      <td>0</td>\n",
              "      <td>0</td>\n",
              "      <td>0</td>\n",
              "    </tr>\n",
              "    <tr>\n",
              "      <th>530</th>\n",
              "      <td>6.10</td>\n",
              "      <td>0</td>\n",
              "      <td>12</td>\n",
              "      <td>33</td>\n",
              "      <td>51</td>\n",
              "      <td>1</td>\n",
              "      <td>1</td>\n",
              "      <td>0</td>\n",
              "      <td>0</td>\n",
              "      <td>0</td>\n",
              "    </tr>\n",
              "    <tr>\n",
              "      <th>531</th>\n",
              "      <td>23.25</td>\n",
              "      <td>1</td>\n",
              "      <td>17</td>\n",
              "      <td>25</td>\n",
              "      <td>48</td>\n",
              "      <td>1</td>\n",
              "      <td>1</td>\n",
              "      <td>0</td>\n",
              "      <td>0</td>\n",
              "      <td>0</td>\n",
              "    </tr>\n",
              "    <tr>\n",
              "      <th>532</th>\n",
              "      <td>19.88</td>\n",
              "      <td>1</td>\n",
              "      <td>12</td>\n",
              "      <td>13</td>\n",
              "      <td>31</td>\n",
              "      <td>0</td>\n",
              "      <td>1</td>\n",
              "      <td>1</td>\n",
              "      <td>0</td>\n",
              "      <td>0</td>\n",
              "    </tr>\n",
              "    <tr>\n",
              "      <th>533</th>\n",
              "      <td>15.38</td>\n",
              "      <td>0</td>\n",
              "      <td>16</td>\n",
              "      <td>33</td>\n",
              "      <td>55</td>\n",
              "      <td>0</td>\n",
              "      <td>1</td>\n",
              "      <td>0</td>\n",
              "      <td>1</td>\n",
              "      <td>0</td>\n",
              "    </tr>\n",
              "  </tbody>\n",
              "</table>\n",
              "<p>534 rows × 10 columns</p>\n",
              "</div>"
            ],
            "text/plain": [
              "     wage_per_hour  union  education_yrs  ...  south  manufacturing  construction\n",
              "0             5.10      0              8  ...      0              1             0\n",
              "1             4.95      0              9  ...      0              1             0\n",
              "2             6.67      0             12  ...      0              1             0\n",
              "3             4.00      0             12  ...      0              0             0\n",
              "4             7.50      0             12  ...      0              0             0\n",
              "..             ...    ...            ...  ...    ...            ...           ...\n",
              "529          11.36      0             18  ...      0              0             0\n",
              "530           6.10      0             12  ...      0              0             0\n",
              "531          23.25      1             17  ...      0              0             0\n",
              "532          19.88      1             12  ...      1              0             0\n",
              "533          15.38      0             16  ...      0              1             0\n",
              "\n",
              "[534 rows x 10 columns]"
            ]
          },
          "metadata": {},
          "execution_count": 4
        }
      ]
    },
    {
      "cell_type": "code",
      "metadata": {
        "colab": {
          "base_uri": "https://localhost:8080/",
          "height": 297
        },
        "id": "Igw-bHPK4NHA",
        "outputId": "76110386-f2dc-4255-bbaa-6fca9fc4bb83"
      },
      "source": [
        "data.describe()"
      ],
      "execution_count": null,
      "outputs": [
        {
          "output_type": "execute_result",
          "data": {
            "text/html": [
              "<div>\n",
              "<style scoped>\n",
              "    .dataframe tbody tr th:only-of-type {\n",
              "        vertical-align: middle;\n",
              "    }\n",
              "\n",
              "    .dataframe tbody tr th {\n",
              "        vertical-align: top;\n",
              "    }\n",
              "\n",
              "    .dataframe thead th {\n",
              "        text-align: right;\n",
              "    }\n",
              "</style>\n",
              "<table border=\"1\" class=\"dataframe\">\n",
              "  <thead>\n",
              "    <tr style=\"text-align: right;\">\n",
              "      <th></th>\n",
              "      <th>wage_per_hour</th>\n",
              "      <th>union</th>\n",
              "      <th>education_yrs</th>\n",
              "      <th>experience_yrs</th>\n",
              "      <th>age</th>\n",
              "      <th>female</th>\n",
              "      <th>marr</th>\n",
              "      <th>south</th>\n",
              "      <th>manufacturing</th>\n",
              "      <th>construction</th>\n",
              "    </tr>\n",
              "  </thead>\n",
              "  <tbody>\n",
              "    <tr>\n",
              "      <th>count</th>\n",
              "      <td>534.000000</td>\n",
              "      <td>534.000000</td>\n",
              "      <td>534.000000</td>\n",
              "      <td>534.000000</td>\n",
              "      <td>534.000000</td>\n",
              "      <td>534.000000</td>\n",
              "      <td>534.000000</td>\n",
              "      <td>534.000000</td>\n",
              "      <td>534.000000</td>\n",
              "      <td>534.000000</td>\n",
              "    </tr>\n",
              "    <tr>\n",
              "      <th>mean</th>\n",
              "      <td>9.024064</td>\n",
              "      <td>0.179775</td>\n",
              "      <td>13.018727</td>\n",
              "      <td>17.822097</td>\n",
              "      <td>36.833333</td>\n",
              "      <td>0.458801</td>\n",
              "      <td>0.655431</td>\n",
              "      <td>0.292135</td>\n",
              "      <td>0.185393</td>\n",
              "      <td>0.044944</td>\n",
              "    </tr>\n",
              "    <tr>\n",
              "      <th>std</th>\n",
              "      <td>5.139097</td>\n",
              "      <td>0.384360</td>\n",
              "      <td>2.615373</td>\n",
              "      <td>12.379710</td>\n",
              "      <td>11.726573</td>\n",
              "      <td>0.498767</td>\n",
              "      <td>0.475673</td>\n",
              "      <td>0.455170</td>\n",
              "      <td>0.388981</td>\n",
              "      <td>0.207375</td>\n",
              "    </tr>\n",
              "    <tr>\n",
              "      <th>min</th>\n",
              "      <td>1.000000</td>\n",
              "      <td>0.000000</td>\n",
              "      <td>2.000000</td>\n",
              "      <td>0.000000</td>\n",
              "      <td>18.000000</td>\n",
              "      <td>0.000000</td>\n",
              "      <td>0.000000</td>\n",
              "      <td>0.000000</td>\n",
              "      <td>0.000000</td>\n",
              "      <td>0.000000</td>\n",
              "    </tr>\n",
              "    <tr>\n",
              "      <th>25%</th>\n",
              "      <td>5.250000</td>\n",
              "      <td>0.000000</td>\n",
              "      <td>12.000000</td>\n",
              "      <td>8.000000</td>\n",
              "      <td>28.000000</td>\n",
              "      <td>0.000000</td>\n",
              "      <td>0.000000</td>\n",
              "      <td>0.000000</td>\n",
              "      <td>0.000000</td>\n",
              "      <td>0.000000</td>\n",
              "    </tr>\n",
              "    <tr>\n",
              "      <th>50%</th>\n",
              "      <td>7.780000</td>\n",
              "      <td>0.000000</td>\n",
              "      <td>12.000000</td>\n",
              "      <td>15.000000</td>\n",
              "      <td>35.000000</td>\n",
              "      <td>0.000000</td>\n",
              "      <td>1.000000</td>\n",
              "      <td>0.000000</td>\n",
              "      <td>0.000000</td>\n",
              "      <td>0.000000</td>\n",
              "    </tr>\n",
              "    <tr>\n",
              "      <th>75%</th>\n",
              "      <td>11.250000</td>\n",
              "      <td>0.000000</td>\n",
              "      <td>15.000000</td>\n",
              "      <td>26.000000</td>\n",
              "      <td>44.000000</td>\n",
              "      <td>1.000000</td>\n",
              "      <td>1.000000</td>\n",
              "      <td>1.000000</td>\n",
              "      <td>0.000000</td>\n",
              "      <td>0.000000</td>\n",
              "    </tr>\n",
              "    <tr>\n",
              "      <th>max</th>\n",
              "      <td>44.500000</td>\n",
              "      <td>1.000000</td>\n",
              "      <td>18.000000</td>\n",
              "      <td>55.000000</td>\n",
              "      <td>64.000000</td>\n",
              "      <td>1.000000</td>\n",
              "      <td>1.000000</td>\n",
              "      <td>1.000000</td>\n",
              "      <td>1.000000</td>\n",
              "      <td>1.000000</td>\n",
              "    </tr>\n",
              "  </tbody>\n",
              "</table>\n",
              "</div>"
            ],
            "text/plain": [
              "       wage_per_hour       union  ...  manufacturing  construction\n",
              "count     534.000000  534.000000  ...     534.000000    534.000000\n",
              "mean        9.024064    0.179775  ...       0.185393      0.044944\n",
              "std         5.139097    0.384360  ...       0.388981      0.207375\n",
              "min         1.000000    0.000000  ...       0.000000      0.000000\n",
              "25%         5.250000    0.000000  ...       0.000000      0.000000\n",
              "50%         7.780000    0.000000  ...       0.000000      0.000000\n",
              "75%        11.250000    0.000000  ...       0.000000      0.000000\n",
              "max        44.500000    1.000000  ...       1.000000      1.000000\n",
              "\n",
              "[8 rows x 10 columns]"
            ]
          },
          "metadata": {},
          "execution_count": 6
        }
      ]
    },
    {
      "cell_type": "code",
      "metadata": {
        "id": "MWbPgtFREyvx"
      },
      "source": [
        "y = data['wage_per_hour']\n",
        "x = data.drop(columns=['wage_per_hour'])"
      ],
      "execution_count": null,
      "outputs": []
    },
    {
      "cell_type": "code",
      "metadata": {
        "colab": {
          "base_uri": "https://localhost:8080/"
        },
        "id": "UpmkTt5IFNh4",
        "outputId": "4065582a-96c3-4d18-d66c-3672cca03ac0"
      },
      "source": [
        "x.shape, y.shape"
      ],
      "execution_count": null,
      "outputs": [
        {
          "output_type": "execute_result",
          "data": {
            "text/plain": [
              "((534, 9), (534,))"
            ]
          },
          "metadata": {},
          "execution_count": 6
        }
      ]
    },
    {
      "cell_type": "code",
      "metadata": {
        "id": "Wdtp7eGuD1uk"
      },
      "source": [
        "x_train, x_test, y_train, y_test = train_test_split(x, y, test_size=0.3)"
      ],
      "execution_count": null,
      "outputs": []
    },
    {
      "cell_type": "code",
      "metadata": {
        "colab": {
          "base_uri": "https://localhost:8080/",
          "height": 419
        },
        "id": "hffzabREtoTh",
        "outputId": "d779266d-6d17-433e-d0e7-660e47b3b6fd"
      },
      "source": [
        "x_test"
      ],
      "execution_count": null,
      "outputs": [
        {
          "output_type": "execute_result",
          "data": {
            "text/html": [
              "<div>\n",
              "<style scoped>\n",
              "    .dataframe tbody tr th:only-of-type {\n",
              "        vertical-align: middle;\n",
              "    }\n",
              "\n",
              "    .dataframe tbody tr th {\n",
              "        vertical-align: top;\n",
              "    }\n",
              "\n",
              "    .dataframe thead th {\n",
              "        text-align: right;\n",
              "    }\n",
              "</style>\n",
              "<table border=\"1\" class=\"dataframe\">\n",
              "  <thead>\n",
              "    <tr style=\"text-align: right;\">\n",
              "      <th></th>\n",
              "      <th>union</th>\n",
              "      <th>education_yrs</th>\n",
              "      <th>experience_yrs</th>\n",
              "      <th>age</th>\n",
              "      <th>female</th>\n",
              "      <th>marr</th>\n",
              "      <th>south</th>\n",
              "      <th>manufacturing</th>\n",
              "      <th>construction</th>\n",
              "    </tr>\n",
              "  </thead>\n",
              "  <tbody>\n",
              "    <tr>\n",
              "      <th>530</th>\n",
              "      <td>0</td>\n",
              "      <td>12</td>\n",
              "      <td>33</td>\n",
              "      <td>51</td>\n",
              "      <td>1</td>\n",
              "      <td>1</td>\n",
              "      <td>0</td>\n",
              "      <td>0</td>\n",
              "      <td>0</td>\n",
              "    </tr>\n",
              "    <tr>\n",
              "      <th>228</th>\n",
              "      <td>0</td>\n",
              "      <td>13</td>\n",
              "      <td>2</td>\n",
              "      <td>21</td>\n",
              "      <td>1</td>\n",
              "      <td>1</td>\n",
              "      <td>1</td>\n",
              "      <td>0</td>\n",
              "      <td>0</td>\n",
              "    </tr>\n",
              "    <tr>\n",
              "      <th>404</th>\n",
              "      <td>0</td>\n",
              "      <td>11</td>\n",
              "      <td>3</td>\n",
              "      <td>20</td>\n",
              "      <td>0</td>\n",
              "      <td>0</td>\n",
              "      <td>0</td>\n",
              "      <td>0</td>\n",
              "      <td>0</td>\n",
              "    </tr>\n",
              "    <tr>\n",
              "      <th>386</th>\n",
              "      <td>0</td>\n",
              "      <td>12</td>\n",
              "      <td>20</td>\n",
              "      <td>38</td>\n",
              "      <td>0</td>\n",
              "      <td>1</td>\n",
              "      <td>1</td>\n",
              "      <td>0</td>\n",
              "      <td>0</td>\n",
              "    </tr>\n",
              "    <tr>\n",
              "      <th>63</th>\n",
              "      <td>0</td>\n",
              "      <td>12</td>\n",
              "      <td>3</td>\n",
              "      <td>21</td>\n",
              "      <td>0</td>\n",
              "      <td>0</td>\n",
              "      <td>1</td>\n",
              "      <td>0</td>\n",
              "      <td>1</td>\n",
              "    </tr>\n",
              "    <tr>\n",
              "      <th>...</th>\n",
              "      <td>...</td>\n",
              "      <td>...</td>\n",
              "      <td>...</td>\n",
              "      <td>...</td>\n",
              "      <td>...</td>\n",
              "      <td>...</td>\n",
              "      <td>...</td>\n",
              "      <td>...</td>\n",
              "      <td>...</td>\n",
              "    </tr>\n",
              "    <tr>\n",
              "      <th>298</th>\n",
              "      <td>0</td>\n",
              "      <td>12</td>\n",
              "      <td>0</td>\n",
              "      <td>18</td>\n",
              "      <td>1</td>\n",
              "      <td>0</td>\n",
              "      <td>0</td>\n",
              "      <td>0</td>\n",
              "      <td>0</td>\n",
              "    </tr>\n",
              "    <tr>\n",
              "      <th>224</th>\n",
              "      <td>0</td>\n",
              "      <td>12</td>\n",
              "      <td>20</td>\n",
              "      <td>38</td>\n",
              "      <td>0</td>\n",
              "      <td>1</td>\n",
              "      <td>1</td>\n",
              "      <td>1</td>\n",
              "      <td>0</td>\n",
              "    </tr>\n",
              "    <tr>\n",
              "      <th>342</th>\n",
              "      <td>0</td>\n",
              "      <td>12</td>\n",
              "      <td>2</td>\n",
              "      <td>20</td>\n",
              "      <td>1</td>\n",
              "      <td>1</td>\n",
              "      <td>1</td>\n",
              "      <td>0</td>\n",
              "      <td>0</td>\n",
              "    </tr>\n",
              "    <tr>\n",
              "      <th>29</th>\n",
              "      <td>0</td>\n",
              "      <td>12</td>\n",
              "      <td>8</td>\n",
              "      <td>26</td>\n",
              "      <td>0</td>\n",
              "      <td>1</td>\n",
              "      <td>0</td>\n",
              "      <td>0</td>\n",
              "      <td>0</td>\n",
              "    </tr>\n",
              "    <tr>\n",
              "      <th>295</th>\n",
              "      <td>0</td>\n",
              "      <td>12</td>\n",
              "      <td>25</td>\n",
              "      <td>43</td>\n",
              "      <td>1</td>\n",
              "      <td>0</td>\n",
              "      <td>0</td>\n",
              "      <td>0</td>\n",
              "      <td>0</td>\n",
              "    </tr>\n",
              "  </tbody>\n",
              "</table>\n",
              "<p>161 rows × 9 columns</p>\n",
              "</div>"
            ],
            "text/plain": [
              "     union  education_yrs  experience_yrs  ...  south  manufacturing  construction\n",
              "530      0             12              33  ...      0              0             0\n",
              "228      0             13               2  ...      1              0             0\n",
              "404      0             11               3  ...      0              0             0\n",
              "386      0             12              20  ...      1              0             0\n",
              "63       0             12               3  ...      1              0             1\n",
              "..     ...            ...             ...  ...    ...            ...           ...\n",
              "298      0             12               0  ...      0              0             0\n",
              "224      0             12              20  ...      1              1             0\n",
              "342      0             12               2  ...      1              0             0\n",
              "29       0             12               8  ...      0              0             0\n",
              "295      0             12              25  ...      0              0             0\n",
              "\n",
              "[161 rows x 9 columns]"
            ]
          },
          "metadata": {},
          "execution_count": 15
        }
      ]
    },
    {
      "cell_type": "code",
      "metadata": {
        "id": "pd2AbSNrG4Ot"
      },
      "source": [
        "x_train = x_train.astype('float32')\n",
        "y_train = y_train.astype('float32')\n",
        "x_test = x_test.astype('float32')\n",
        "y_test = y_test.astype('float32')"
      ],
      "execution_count": null,
      "outputs": []
    },
    {
      "cell_type": "code",
      "metadata": {
        "id": "PFLFvx4FN-b-"
      },
      "source": [
        "min_max_scaler = MinMaxScaler()\n",
        "X_train_minmax = min_max_scaler.fit_transform(x_train)\n",
        "\n",
        "X_test_minmax = min_max_scaler.transform(x_test)"
      ],
      "execution_count": null,
      "outputs": []
    },
    {
      "cell_type": "code",
      "metadata": {
        "colab": {
          "base_uri": "https://localhost:8080/"
        },
        "id": "DSsPE7VNNps_",
        "outputId": "0f86b615-88cd-4ba8-d1cc-12e16ff503d9"
      },
      "source": [
        "X_train_minmax"
      ],
      "execution_count": null,
      "outputs": [
        {
          "output_type": "execute_result",
          "data": {
            "text/plain": [
              "array([[0.        , 0.5       , 0.34545454, ..., 1.        , 0.        ,\n",
              "        0.        ],\n",
              "       [0.        , 0.75      , 0.29090908, ..., 0.        , 0.        ,\n",
              "        0.        ],\n",
              "       [0.        , 1.        , 0.59999996, ..., 0.        , 0.        ,\n",
              "        0.        ],\n",
              "       ...,\n",
              "       [0.        , 0.875     , 0.23636363, ..., 1.        , 0.        ,\n",
              "        0.        ],\n",
              "       [0.        , 0.625     , 0.25454545, ..., 0.        , 1.        ,\n",
              "        0.        ],\n",
              "       [0.        , 0.875     , 0.07272727, ..., 0.        , 0.        ,\n",
              "        0.        ]], dtype=float32)"
            ]
          },
          "metadata": {},
          "execution_count": 16
        }
      ]
    },
    {
      "cell_type": "code",
      "metadata": {
        "colab": {
          "base_uri": "https://localhost:8080/"
        },
        "id": "za4sYOelJTGc",
        "outputId": "8725db99-6d98-4946-8312-1b621a051b13"
      },
      "source": [
        "x_train.shape, y_train.shape, x_test.shape, y_test.shape"
      ],
      "execution_count": null,
      "outputs": [
        {
          "output_type": "execute_result",
          "data": {
            "text/plain": [
              "((373, 9), (373,), (161, 9), (161,))"
            ]
          },
          "metadata": {},
          "execution_count": 12
        }
      ]
    },
    {
      "cell_type": "markdown",
      "metadata": {
        "id": "rtTCl2myn-ks"
      },
      "source": [
        "# Initialize model"
      ]
    },
    {
      "cell_type": "code",
      "metadata": {
        "id": "gebHcEhEnG7U"
      },
      "source": [
        "def build_model(optim):\n",
        "  model = Sequential()\n",
        "  model.add(Dense(64, activation='relu', input_shape = (x_train.shape[1],)))\n",
        "  model.add(Dense(32, activation='relu'))\n",
        "  model.add(Dense(16, activation='relu'))\n",
        "  model.add(Dense(1))\n",
        "  model.compile(\n",
        "      optimizer=optim,\n",
        "      loss=['mean_squared_error']\n",
        "  )\n",
        "  f = model.fit(\n",
        "      x_train, \n",
        "      y_train, \n",
        "      batch_size=32, \n",
        "      validation_data=(x_test, y_test), \n",
        "      epochs=50\n",
        "  )\n",
        "  return f"
      ],
      "execution_count": null,
      "outputs": []
    },
    {
      "cell_type": "code",
      "metadata": {
        "colab": {
          "base_uri": "https://localhost:8080/"
        },
        "id": "fsMnXWAEnPH1",
        "outputId": "0a54cf03-b0c9-4153-bccb-872cec56e7d5"
      },
      "source": [
        "print('SGD')\n",
        "history_sgd = build_model('SGD')\n",
        "print('RMSprop')\n",
        "history_rmsprop = build_model('RMSprop')\n",
        "print('adam')\n",
        "history_adam = build_model('adam')\n",
        "print('nadam')\n",
        "history_nadam = build_model('nadam')"
      ],
      "execution_count": null,
      "outputs": [
        {
          "output_type": "stream",
          "name": "stdout",
          "text": [
            "SGD\n",
            "Epoch 1/50\n",
            "12/12 [==============================] - 0s 15ms/step - loss: nan - val_loss: nan\n",
            "Epoch 2/50\n",
            "12/12 [==============================] - 0s 4ms/step - loss: nan - val_loss: nan\n",
            "Epoch 3/50\n",
            "12/12 [==============================] - 0s 5ms/step - loss: nan - val_loss: nan\n",
            "Epoch 4/50\n",
            "12/12 [==============================] - 0s 3ms/step - loss: nan - val_loss: nan\n",
            "Epoch 5/50\n",
            "12/12 [==============================] - 0s 5ms/step - loss: nan - val_loss: nan\n",
            "Epoch 6/50\n",
            "12/12 [==============================] - 0s 4ms/step - loss: nan - val_loss: nan\n",
            "Epoch 7/50\n",
            "12/12 [==============================] - 0s 4ms/step - loss: nan - val_loss: nan\n",
            "Epoch 8/50\n",
            "12/12 [==============================] - 0s 5ms/step - loss: nan - val_loss: nan\n",
            "Epoch 9/50\n",
            "12/12 [==============================] - 0s 6ms/step - loss: nan - val_loss: nan\n",
            "Epoch 10/50\n",
            "12/12 [==============================] - 0s 4ms/step - loss: nan - val_loss: nan\n",
            "Epoch 11/50\n",
            "12/12 [==============================] - 0s 4ms/step - loss: nan - val_loss: nan\n",
            "Epoch 12/50\n",
            "12/12 [==============================] - 0s 4ms/step - loss: nan - val_loss: nan\n",
            "Epoch 13/50\n",
            "12/12 [==============================] - 0s 3ms/step - loss: nan - val_loss: nan\n",
            "Epoch 14/50\n",
            "12/12 [==============================] - 0s 4ms/step - loss: nan - val_loss: nan\n",
            "Epoch 15/50\n",
            "12/12 [==============================] - 0s 5ms/step - loss: nan - val_loss: nan\n",
            "Epoch 16/50\n",
            "12/12 [==============================] - 0s 5ms/step - loss: nan - val_loss: nan\n",
            "Epoch 17/50\n",
            "12/12 [==============================] - 0s 4ms/step - loss: nan - val_loss: nan\n",
            "Epoch 18/50\n",
            "12/12 [==============================] - 0s 5ms/step - loss: nan - val_loss: nan\n",
            "Epoch 19/50\n",
            "12/12 [==============================] - 0s 5ms/step - loss: nan - val_loss: nan\n",
            "Epoch 20/50\n",
            "12/12 [==============================] - 0s 3ms/step - loss: nan - val_loss: nan\n",
            "Epoch 21/50\n",
            "12/12 [==============================] - 0s 4ms/step - loss: nan - val_loss: nan\n",
            "Epoch 22/50\n",
            "12/12 [==============================] - 0s 3ms/step - loss: nan - val_loss: nan\n",
            "Epoch 23/50\n",
            "12/12 [==============================] - 0s 5ms/step - loss: nan - val_loss: nan\n",
            "Epoch 24/50\n",
            "12/12 [==============================] - 0s 3ms/step - loss: nan - val_loss: nan\n",
            "Epoch 25/50\n",
            "12/12 [==============================] - 0s 3ms/step - loss: nan - val_loss: nan\n",
            "Epoch 26/50\n",
            "12/12 [==============================] - 0s 3ms/step - loss: nan - val_loss: nan\n",
            "Epoch 27/50\n",
            "12/12 [==============================] - 0s 5ms/step - loss: nan - val_loss: nan\n",
            "Epoch 28/50\n",
            "12/12 [==============================] - 0s 4ms/step - loss: nan - val_loss: nan\n",
            "Epoch 29/50\n",
            "12/12 [==============================] - 0s 4ms/step - loss: nan - val_loss: nan\n",
            "Epoch 30/50\n",
            "12/12 [==============================] - 0s 4ms/step - loss: nan - val_loss: nan\n",
            "Epoch 31/50\n",
            "12/12 [==============================] - 0s 4ms/step - loss: nan - val_loss: nan\n",
            "Epoch 32/50\n",
            "12/12 [==============================] - 0s 4ms/step - loss: nan - val_loss: nan\n",
            "Epoch 33/50\n",
            "12/12 [==============================] - 0s 5ms/step - loss: nan - val_loss: nan\n",
            "Epoch 34/50\n",
            "12/12 [==============================] - 0s 5ms/step - loss: nan - val_loss: nan\n",
            "Epoch 35/50\n",
            "12/12 [==============================] - 0s 3ms/step - loss: nan - val_loss: nan\n",
            "Epoch 36/50\n",
            "12/12 [==============================] - 0s 3ms/step - loss: nan - val_loss: nan\n",
            "Epoch 37/50\n",
            "12/12 [==============================] - 0s 4ms/step - loss: nan - val_loss: nan\n",
            "Epoch 38/50\n",
            "12/12 [==============================] - 0s 4ms/step - loss: nan - val_loss: nan\n",
            "Epoch 39/50\n",
            "12/12 [==============================] - 0s 4ms/step - loss: nan - val_loss: nan\n",
            "Epoch 40/50\n",
            "12/12 [==============================] - 0s 6ms/step - loss: nan - val_loss: nan\n",
            "Epoch 41/50\n",
            "12/12 [==============================] - 0s 4ms/step - loss: nan - val_loss: nan\n",
            "Epoch 42/50\n",
            "12/12 [==============================] - 0s 4ms/step - loss: nan - val_loss: nan\n",
            "Epoch 43/50\n",
            "12/12 [==============================] - 0s 3ms/step - loss: nan - val_loss: nan\n",
            "Epoch 44/50\n",
            "12/12 [==============================] - 0s 3ms/step - loss: nan - val_loss: nan\n",
            "Epoch 45/50\n",
            "12/12 [==============================] - 0s 5ms/step - loss: nan - val_loss: nan\n",
            "Epoch 46/50\n",
            "12/12 [==============================] - 0s 3ms/step - loss: nan - val_loss: nan\n",
            "Epoch 47/50\n",
            "12/12 [==============================] - 0s 3ms/step - loss: nan - val_loss: nan\n",
            "Epoch 48/50\n",
            "12/12 [==============================] - 0s 5ms/step - loss: nan - val_loss: nan\n",
            "Epoch 49/50\n",
            "12/12 [==============================] - 0s 5ms/step - loss: nan - val_loss: nan\n",
            "Epoch 50/50\n",
            "12/12 [==============================] - 0s 4ms/step - loss: nan - val_loss: nan\n",
            "RMSprop\n",
            "Epoch 1/50\n",
            "12/12 [==============================] - 1s 29ms/step - loss: 71.6263 - val_loss: 22.7327\n",
            "Epoch 2/50\n",
            "12/12 [==============================] - 0s 5ms/step - loss: 26.9131 - val_loss: 19.0991\n",
            "Epoch 3/50\n",
            "12/12 [==============================] - 0s 5ms/step - loss: 23.5691 - val_loss: 19.1331\n",
            "Epoch 4/50\n",
            "12/12 [==============================] - 0s 4ms/step - loss: 22.6177 - val_loss: 19.2276\n",
            "Epoch 5/50\n",
            "12/12 [==============================] - 0s 6ms/step - loss: 22.3594 - val_loss: 19.4735\n",
            "Epoch 6/50\n",
            "12/12 [==============================] - 0s 5ms/step - loss: 21.7039 - val_loss: 19.0947\n",
            "Epoch 7/50\n",
            "12/12 [==============================] - 0s 4ms/step - loss: 21.8060 - val_loss: 21.0697\n",
            "Epoch 8/50\n",
            "12/12 [==============================] - 0s 4ms/step - loss: 22.1084 - val_loss: 19.5465\n",
            "Epoch 9/50\n",
            "12/12 [==============================] - 0s 5ms/step - loss: 22.1417 - val_loss: 20.0366\n",
            "Epoch 10/50\n",
            "12/12 [==============================] - 0s 5ms/step - loss: 22.4016 - val_loss: 19.1662\n",
            "Epoch 11/50\n",
            "12/12 [==============================] - 0s 6ms/step - loss: 22.0251 - val_loss: 19.9193\n",
            "Epoch 12/50\n",
            "12/12 [==============================] - 0s 6ms/step - loss: 21.6101 - val_loss: 19.6156\n",
            "Epoch 13/50\n",
            "12/12 [==============================] - 0s 4ms/step - loss: 21.2279 - val_loss: 20.5010\n",
            "Epoch 14/50\n",
            "12/12 [==============================] - 0s 4ms/step - loss: 21.3806 - val_loss: 19.0012\n",
            "Epoch 15/50\n",
            "12/12 [==============================] - 0s 6ms/step - loss: 21.5320 - val_loss: 19.3996\n",
            "Epoch 16/50\n",
            "12/12 [==============================] - 0s 5ms/step - loss: 21.2254 - val_loss: 19.8495\n",
            "Epoch 17/50\n",
            "12/12 [==============================] - 0s 3ms/step - loss: 21.2387 - val_loss: 20.3684\n",
            "Epoch 18/50\n",
            "12/12 [==============================] - 0s 5ms/step - loss: 21.9869 - val_loss: 19.1494\n",
            "Epoch 19/50\n",
            "12/12 [==============================] - 0s 7ms/step - loss: 21.1087 - val_loss: 19.9647\n",
            "Epoch 20/50\n",
            "12/12 [==============================] - 0s 4ms/step - loss: 20.6817 - val_loss: 20.9826\n",
            "Epoch 21/50\n",
            "12/12 [==============================] - 0s 6ms/step - loss: 21.0652 - val_loss: 19.8159\n",
            "Epoch 22/50\n",
            "12/12 [==============================] - 0s 3ms/step - loss: 20.7286 - val_loss: 20.4571\n",
            "Epoch 23/50\n",
            "12/12 [==============================] - 0s 4ms/step - loss: 21.8149 - val_loss: 19.0301\n",
            "Epoch 24/50\n",
            "12/12 [==============================] - 0s 3ms/step - loss: 20.4936 - val_loss: 18.5086\n",
            "Epoch 25/50\n",
            "12/12 [==============================] - 0s 5ms/step - loss: 20.5026 - val_loss: 18.3250\n",
            "Epoch 26/50\n",
            "12/12 [==============================] - 0s 6ms/step - loss: 21.1314 - val_loss: 19.5849\n",
            "Epoch 27/50\n",
            "12/12 [==============================] - 0s 6ms/step - loss: 20.3536 - val_loss: 20.2181\n",
            "Epoch 28/50\n",
            "12/12 [==============================] - 0s 4ms/step - loss: 20.7712 - val_loss: 19.2515\n",
            "Epoch 29/50\n",
            "12/12 [==============================] - 0s 5ms/step - loss: 20.7925 - val_loss: 18.6516\n",
            "Epoch 30/50\n",
            "12/12 [==============================] - 0s 5ms/step - loss: 20.4722 - val_loss: 20.0759\n",
            "Epoch 31/50\n",
            "12/12 [==============================] - 0s 4ms/step - loss: 20.1983 - val_loss: 18.5811\n",
            "Epoch 32/50\n",
            "12/12 [==============================] - 0s 5ms/step - loss: 20.4336 - val_loss: 18.1383\n",
            "Epoch 33/50\n",
            "12/12 [==============================] - 0s 5ms/step - loss: 20.3321 - val_loss: 19.6595\n",
            "Epoch 34/50\n",
            "12/12 [==============================] - 0s 4ms/step - loss: 20.6096 - val_loss: 18.7785\n",
            "Epoch 35/50\n",
            "12/12 [==============================] - 0s 4ms/step - loss: 20.0530 - val_loss: 18.3357\n",
            "Epoch 36/50\n",
            "12/12 [==============================] - 0s 5ms/step - loss: 19.7949 - val_loss: 18.8977\n",
            "Epoch 37/50\n",
            "12/12 [==============================] - 0s 4ms/step - loss: 19.8336 - val_loss: 19.1982\n",
            "Epoch 38/50\n",
            "12/12 [==============================] - 0s 4ms/step - loss: 19.9986 - val_loss: 18.7598\n",
            "Epoch 39/50\n",
            "12/12 [==============================] - 0s 5ms/step - loss: 19.5657 - val_loss: 19.2982\n",
            "Epoch 40/50\n",
            "12/12 [==============================] - 0s 3ms/step - loss: 20.0454 - val_loss: 20.4943\n",
            "Epoch 41/50\n",
            "12/12 [==============================] - 0s 4ms/step - loss: 19.6085 - val_loss: 18.0677\n",
            "Epoch 42/50\n",
            "12/12 [==============================] - 0s 4ms/step - loss: 19.9303 - val_loss: 18.1826\n",
            "Epoch 43/50\n",
            "12/12 [==============================] - 0s 3ms/step - loss: 19.1938 - val_loss: 18.0123\n",
            "Epoch 44/50\n",
            "12/12 [==============================] - 0s 5ms/step - loss: 19.6348 - val_loss: 17.9525\n",
            "Epoch 45/50\n",
            "12/12 [==============================] - 0s 5ms/step - loss: 19.3142 - val_loss: 18.2494\n",
            "Epoch 46/50\n",
            "12/12 [==============================] - 0s 4ms/step - loss: 20.0729 - val_loss: 19.8231\n",
            "Epoch 47/50\n",
            "12/12 [==============================] - 0s 4ms/step - loss: 19.7360 - val_loss: 18.8146\n",
            "Epoch 48/50\n",
            "12/12 [==============================] - 0s 4ms/step - loss: 19.4961 - val_loss: 19.9568\n",
            "Epoch 49/50\n",
            "12/12 [==============================] - 0s 4ms/step - loss: 19.6218 - val_loss: 19.3564\n",
            "Epoch 50/50\n",
            "12/12 [==============================] - 0s 5ms/step - loss: 19.5900 - val_loss: 17.9228\n",
            "adam\n",
            "Epoch 1/50\n",
            "12/12 [==============================] - 1s 15ms/step - loss: 40.5758 - val_loss: 36.5432\n",
            "Epoch 2/50\n",
            "12/12 [==============================] - 0s 4ms/step - loss: 30.1927 - val_loss: 21.3656\n",
            "Epoch 3/50\n",
            "12/12 [==============================] - 0s 4ms/step - loss: 24.4522 - val_loss: 21.4151\n",
            "Epoch 4/50\n",
            "12/12 [==============================] - 0s 4ms/step - loss: 23.3104 - val_loss: 22.2317\n",
            "Epoch 5/50\n",
            "12/12 [==============================] - 0s 4ms/step - loss: 23.2287 - val_loss: 21.5769\n",
            "Epoch 6/50\n",
            "12/12 [==============================] - 0s 4ms/step - loss: 22.8677 - val_loss: 21.1914\n",
            "Epoch 7/50\n",
            "12/12 [==============================] - 0s 5ms/step - loss: 22.8861 - val_loss: 20.4593\n",
            "Epoch 8/50\n",
            "12/12 [==============================] - 0s 4ms/step - loss: 22.4307 - val_loss: 20.5554\n",
            "Epoch 9/50\n",
            "12/12 [==============================] - 0s 4ms/step - loss: 22.3172 - val_loss: 20.3517\n",
            "Epoch 10/50\n",
            "12/12 [==============================] - 0s 5ms/step - loss: 22.7926 - val_loss: 21.3845\n",
            "Epoch 11/50\n",
            "12/12 [==============================] - 0s 5ms/step - loss: 22.3256 - val_loss: 20.1073\n",
            "Epoch 12/50\n",
            "12/12 [==============================] - 0s 5ms/step - loss: 21.8492 - val_loss: 19.7933\n",
            "Epoch 13/50\n",
            "12/12 [==============================] - 0s 5ms/step - loss: 21.9309 - val_loss: 20.0646\n",
            "Epoch 14/50\n",
            "12/12 [==============================] - 0s 4ms/step - loss: 22.0023 - val_loss: 19.1567\n",
            "Epoch 15/50\n",
            "12/12 [==============================] - 0s 4ms/step - loss: 21.4187 - val_loss: 19.3893\n",
            "Epoch 16/50\n",
            "12/12 [==============================] - 0s 5ms/step - loss: 21.0740 - val_loss: 19.0991\n",
            "Epoch 17/50\n",
            "12/12 [==============================] - 0s 6ms/step - loss: 21.0718 - val_loss: 19.3268\n",
            "Epoch 18/50\n",
            "12/12 [==============================] - 0s 4ms/step - loss: 21.1151 - val_loss: 20.3502\n",
            "Epoch 19/50\n",
            "12/12 [==============================] - 0s 4ms/step - loss: 21.3294 - val_loss: 18.9277\n",
            "Epoch 20/50\n",
            "12/12 [==============================] - 0s 4ms/step - loss: 20.6195 - val_loss: 19.1646\n",
            "Epoch 21/50\n",
            "12/12 [==============================] - 0s 5ms/step - loss: 20.7764 - val_loss: 19.5405\n",
            "Epoch 22/50\n",
            "12/12 [==============================] - 0s 4ms/step - loss: 20.4846 - val_loss: 19.1269\n",
            "Epoch 23/50\n",
            "12/12 [==============================] - 0s 4ms/step - loss: 20.4918 - val_loss: 19.1427\n",
            "Epoch 24/50\n",
            "12/12 [==============================] - 0s 5ms/step - loss: 20.4559 - val_loss: 19.9831\n",
            "Epoch 25/50\n",
            "12/12 [==============================] - 0s 5ms/step - loss: 21.0422 - val_loss: 19.1242\n",
            "Epoch 26/50\n",
            "12/12 [==============================] - 0s 4ms/step - loss: 20.3091 - val_loss: 18.4951\n",
            "Epoch 27/50\n",
            "12/12 [==============================] - 0s 6ms/step - loss: 20.1733 - val_loss: 18.7440\n",
            "Epoch 28/50\n",
            "12/12 [==============================] - 0s 5ms/step - loss: 19.8776 - val_loss: 19.2124\n",
            "Epoch 29/50\n",
            "12/12 [==============================] - 0s 5ms/step - loss: 19.8560 - val_loss: 18.9799\n",
            "Epoch 30/50\n",
            "12/12 [==============================] - 0s 4ms/step - loss: 20.0865 - val_loss: 18.7516\n",
            "Epoch 31/50\n",
            "12/12 [==============================] - 0s 4ms/step - loss: 19.5755 - val_loss: 18.7162\n",
            "Epoch 32/50\n",
            "12/12 [==============================] - 0s 4ms/step - loss: 19.6050 - val_loss: 18.9071\n",
            "Epoch 33/50\n",
            "12/12 [==============================] - 0s 5ms/step - loss: 19.3157 - val_loss: 18.4294\n",
            "Epoch 34/50\n",
            "12/12 [==============================] - 0s 4ms/step - loss: 19.3519 - val_loss: 18.8013\n",
            "Epoch 35/50\n",
            "12/12 [==============================] - 0s 5ms/step - loss: 20.2126 - val_loss: 21.1625\n",
            "Epoch 36/50\n",
            "12/12 [==============================] - 0s 5ms/step - loss: 20.8014 - val_loss: 18.7229\n",
            "Epoch 37/50\n",
            "12/12 [==============================] - 0s 4ms/step - loss: 19.4682 - val_loss: 19.5827\n",
            "Epoch 38/50\n",
            "12/12 [==============================] - 0s 5ms/step - loss: 19.3343 - val_loss: 18.4615\n",
            "Epoch 39/50\n",
            "12/12 [==============================] - 0s 4ms/step - loss: 19.2374 - val_loss: 18.8311\n",
            "Epoch 40/50\n",
            "12/12 [==============================] - 0s 5ms/step - loss: 19.1114 - val_loss: 19.2219\n",
            "Epoch 41/50\n",
            "12/12 [==============================] - 0s 4ms/step - loss: 20.3958 - val_loss: 18.5424\n",
            "Epoch 42/50\n",
            "12/12 [==============================] - 0s 6ms/step - loss: 19.3424 - val_loss: 18.9698\n",
            "Epoch 43/50\n",
            "12/12 [==============================] - 0s 4ms/step - loss: 19.8532 - val_loss: 19.1209\n",
            "Epoch 44/50\n",
            "12/12 [==============================] - 0s 4ms/step - loss: 19.2891 - val_loss: 18.8963\n",
            "Epoch 45/50\n",
            "12/12 [==============================] - 0s 4ms/step - loss: 19.3755 - val_loss: 19.1488\n",
            "Epoch 46/50\n",
            "12/12 [==============================] - 0s 6ms/step - loss: 18.9436 - val_loss: 18.6215\n",
            "Epoch 47/50\n",
            "12/12 [==============================] - 0s 4ms/step - loss: 19.3965 - val_loss: 18.9343\n",
            "Epoch 48/50\n",
            "12/12 [==============================] - 0s 6ms/step - loss: 19.1834 - val_loss: 19.9872\n",
            "Epoch 49/50\n",
            "12/12 [==============================] - 0s 5ms/step - loss: 20.1555 - val_loss: 19.4750\n",
            "Epoch 50/50\n",
            "12/12 [==============================] - 0s 5ms/step - loss: 19.9345 - val_loss: 19.2330\n",
            "nadam\n",
            "Epoch 1/50\n",
            "12/12 [==============================] - 1s 18ms/step - loss: 133.4868 - val_loss: 48.9688\n",
            "Epoch 2/50\n",
            "12/12 [==============================] - 0s 4ms/step - loss: 38.8012 - val_loss: 22.3533\n",
            "Epoch 3/50\n",
            "12/12 [==============================] - 0s 4ms/step - loss: 26.1864 - val_loss: 20.4536\n",
            "Epoch 4/50\n",
            "12/12 [==============================] - 0s 5ms/step - loss: 23.4853 - val_loss: 19.6735\n",
            "Epoch 5/50\n",
            "12/12 [==============================] - 0s 5ms/step - loss: 22.4167 - val_loss: 19.7762\n",
            "Epoch 6/50\n",
            "12/12 [==============================] - 0s 5ms/step - loss: 21.8815 - val_loss: 19.7958\n",
            "Epoch 7/50\n",
            "12/12 [==============================] - 0s 5ms/step - loss: 21.9713 - val_loss: 20.1464\n",
            "Epoch 8/50\n",
            "12/12 [==============================] - 0s 5ms/step - loss: 22.0345 - val_loss: 20.0123\n",
            "Epoch 9/50\n",
            "12/12 [==============================] - 0s 6ms/step - loss: 21.8051 - val_loss: 19.6045\n",
            "Epoch 10/50\n",
            "12/12 [==============================] - 0s 5ms/step - loss: 21.5669 - val_loss: 19.5304\n",
            "Epoch 11/50\n",
            "12/12 [==============================] - 0s 5ms/step - loss: 21.5895 - val_loss: 19.2743\n",
            "Epoch 12/50\n",
            "12/12 [==============================] - 0s 5ms/step - loss: 21.3302 - val_loss: 19.4342\n",
            "Epoch 13/50\n",
            "12/12 [==============================] - 0s 4ms/step - loss: 21.3192 - val_loss: 20.0724\n",
            "Epoch 14/50\n",
            "12/12 [==============================] - 0s 5ms/step - loss: 21.3254 - val_loss: 19.8923\n",
            "Epoch 15/50\n",
            "12/12 [==============================] - 0s 4ms/step - loss: 21.4140 - val_loss: 19.2759\n",
            "Epoch 16/50\n",
            "12/12 [==============================] - 0s 4ms/step - loss: 21.2553 - val_loss: 20.0002\n",
            "Epoch 17/50\n",
            "12/12 [==============================] - 0s 5ms/step - loss: 21.4737 - val_loss: 19.5329\n",
            "Epoch 18/50\n",
            "12/12 [==============================] - 0s 4ms/step - loss: 20.9613 - val_loss: 20.6551\n",
            "Epoch 19/50\n",
            "12/12 [==============================] - 0s 6ms/step - loss: 21.1176 - val_loss: 19.7705\n",
            "Epoch 20/50\n",
            "12/12 [==============================] - 0s 5ms/step - loss: 20.8741 - val_loss: 19.2655\n",
            "Epoch 21/50\n",
            "12/12 [==============================] - 0s 5ms/step - loss: 20.8474 - val_loss: 19.1292\n",
            "Epoch 22/50\n",
            "12/12 [==============================] - 0s 5ms/step - loss: 21.0378 - val_loss: 19.1681\n",
            "Epoch 23/50\n",
            "12/12 [==============================] - 0s 6ms/step - loss: 20.9725 - val_loss: 19.0784\n",
            "Epoch 24/50\n",
            "12/12 [==============================] - 0s 4ms/step - loss: 20.8108 - val_loss: 18.9435\n",
            "Epoch 25/50\n",
            "12/12 [==============================] - 0s 5ms/step - loss: 20.7129 - val_loss: 18.8989\n",
            "Epoch 26/50\n",
            "12/12 [==============================] - 0s 5ms/step - loss: 20.6481 - val_loss: 19.2068\n",
            "Epoch 27/50\n",
            "12/12 [==============================] - 0s 6ms/step - loss: 20.6354 - val_loss: 19.2816\n",
            "Epoch 28/50\n",
            "12/12 [==============================] - 0s 5ms/step - loss: 20.5754 - val_loss: 19.0050\n",
            "Epoch 29/50\n",
            "12/12 [==============================] - 0s 6ms/step - loss: 20.3606 - val_loss: 18.8643\n",
            "Epoch 30/50\n",
            "12/12 [==============================] - 0s 5ms/step - loss: 20.2997 - val_loss: 19.0919\n",
            "Epoch 31/50\n",
            "12/12 [==============================] - 0s 6ms/step - loss: 20.5073 - val_loss: 18.6875\n",
            "Epoch 32/50\n",
            "12/12 [==============================] - 0s 6ms/step - loss: 20.4976 - val_loss: 18.5271\n",
            "Epoch 33/50\n",
            "12/12 [==============================] - 0s 5ms/step - loss: 20.1865 - val_loss: 19.0318\n",
            "Epoch 34/50\n",
            "12/12 [==============================] - 0s 4ms/step - loss: 20.1298 - val_loss: 18.6719\n",
            "Epoch 35/50\n",
            "12/12 [==============================] - 0s 6ms/step - loss: 20.1166 - val_loss: 18.8885\n",
            "Epoch 36/50\n",
            "12/12 [==============================] - 0s 4ms/step - loss: 20.1949 - val_loss: 18.7315\n",
            "Epoch 37/50\n",
            "12/12 [==============================] - 0s 4ms/step - loss: 20.0159 - val_loss: 18.4596\n",
            "Epoch 38/50\n",
            "12/12 [==============================] - 0s 5ms/step - loss: 19.9308 - val_loss: 18.3823\n",
            "Epoch 39/50\n",
            "12/12 [==============================] - 0s 5ms/step - loss: 19.9233 - val_loss: 18.9049\n",
            "Epoch 40/50\n",
            "12/12 [==============================] - 0s 5ms/step - loss: 20.0803 - val_loss: 18.6265\n",
            "Epoch 41/50\n",
            "12/12 [==============================] - 0s 4ms/step - loss: 19.7206 - val_loss: 19.0334\n",
            "Epoch 42/50\n",
            "12/12 [==============================] - 0s 6ms/step - loss: 19.6690 - val_loss: 19.1930\n",
            "Epoch 43/50\n",
            "12/12 [==============================] - 0s 4ms/step - loss: 19.9566 - val_loss: 19.6943\n",
            "Epoch 44/50\n",
            "12/12 [==============================] - 0s 6ms/step - loss: 19.6327 - val_loss: 18.4691\n",
            "Epoch 45/50\n",
            "12/12 [==============================] - 0s 4ms/step - loss: 19.6425 - val_loss: 19.0301\n",
            "Epoch 46/50\n",
            "12/12 [==============================] - 0s 6ms/step - loss: 19.9799 - val_loss: 18.9564\n",
            "Epoch 47/50\n",
            "12/12 [==============================] - 0s 5ms/step - loss: 19.8787 - val_loss: 18.5619\n",
            "Epoch 48/50\n",
            "12/12 [==============================] - 0s 4ms/step - loss: 19.5087 - val_loss: 18.4562\n",
            "Epoch 49/50\n",
            "12/12 [==============================] - 0s 5ms/step - loss: 19.3322 - val_loss: 18.4804\n",
            "Epoch 50/50\n",
            "12/12 [==============================] - 0s 6ms/step - loss: 19.5753 - val_loss: 18.5359\n"
          ]
        }
      ]
    },
    {
      "cell_type": "code",
      "metadata": {
        "id": "POXdKXwTnPEW"
      },
      "source": [
        ""
      ],
      "execution_count": null,
      "outputs": []
    },
    {
      "cell_type": "code",
      "metadata": {
        "id": "TJ7tafsAnPBv"
      },
      "source": [
        ""
      ],
      "execution_count": null,
      "outputs": []
    },
    {
      "cell_type": "code",
      "metadata": {
        "id": "TTOG1sL9nPAB"
      },
      "source": [
        ""
      ],
      "execution_count": null,
      "outputs": []
    },
    {
      "cell_type": "code",
      "metadata": {
        "id": "lpE7S-6QnO8t"
      },
      "source": [
        ""
      ],
      "execution_count": null,
      "outputs": []
    },
    {
      "cell_type": "code",
      "metadata": {
        "id": "1S2SkMoInO6F"
      },
      "source": [
        ""
      ],
      "execution_count": null,
      "outputs": []
    },
    {
      "cell_type": "code",
      "metadata": {
        "id": "8o06yT0yz2Mq"
      },
      "source": [
        ""
      ],
      "execution_count": null,
      "outputs": []
    },
    {
      "cell_type": "code",
      "metadata": {
        "id": "KVOKjyYXR2vh"
      },
      "source": [
        "history_adam.history['val_loss']"
      ],
      "execution_count": null,
      "outputs": []
    },
    {
      "cell_type": "code",
      "metadata": {
        "id": "VKuZU550z2KH"
      },
      "source": [
        "history_rmsprop.history['val_loss']"
      ],
      "execution_count": null,
      "outputs": []
    },
    {
      "cell_type": "code",
      "metadata": {
        "id": "w0XFb6Vd6mcw"
      },
      "source": [
        "history_nadam.history['val_loss']"
      ],
      "execution_count": null,
      "outputs": []
    },
    {
      "cell_type": "code",
      "metadata": {
        "colab": {
          "base_uri": "https://localhost:8080/",
          "height": 282
        },
        "id": "CIRYwIvaLwD4",
        "outputId": "b025b768-e95c-40e7-bb4b-710c27df20b4"
      },
      "source": [
        "plt.plot(history_adam.history['val_loss'], label = 'history_adam')\n",
        "plt.plot(history_sgd.history['val_loss'], label = 'history_sgd')\n",
        "plt.plot(history_nadam.history['val_loss'], label = 'history_nadam')\n",
        "plt.plot(history_rmsprop.history['val_loss'], label = 'history_rmsprop')\n",
        "\n",
        "# plt.legend(['val_loss'])\n",
        "plt.legend()\n"
      ],
      "execution_count": null,
      "outputs": [
        {
          "output_type": "execute_result",
          "data": {
            "text/plain": [
              "<matplotlib.legend.Legend at 0x7f15ca698790>"
            ]
          },
          "metadata": {},
          "execution_count": 35
        },
        {
          "output_type": "display_data",
          "data": {
            "image/png": "[encoded data removed]",
            "text/plain": [
              "<Figure size 432x288 with 1 Axes>"
            ]
          },
          "metadata": {
            "needs_background": "light"
          }
        }
      ]
    },
    {
      "cell_type": "code",
      "metadata": {
        "colab": {
          "base_uri": "https://localhost:8080/"
        },
        "id": "T8yeqkq2O7u7",
        "outputId": "f8f4b48a-5ceb-48d6-99e6-3dd04678dbac"
      },
      "source": [
        "type(history_nadam)"
      ],
      "execution_count": null,
      "outputs": [
        {
          "output_type": "execute_result",
          "data": {
            "text/plain": [
              "keras.callbacks.History"
            ]
          },
          "metadata": {},
          "execution_count": 22
        }
      ]
    },
    {
      "cell_type": "code",
      "metadata": {
        "id": "TYZLE-ifHGd2",
        "colab": {
          "base_uri": "https://localhost:8080/",
          "height": 282
        },
        "outputId": "e2b8691d-a76b-41aa-c488-ddde95968df7"
      },
      "source": [
        "plt.plot(history_adam.history['val_loss'], label = 'history_adam')\n",
        "plt.plot(history_adadelta.history['val_loss'], label = 'history_adadelta')\n",
        "plt.plot(history_adamax.history['val_loss'], label = 'history_adamax')\n",
        "plt.plot(history_sgd.history['val_loss'], label = 'history_sgd')\n",
        "plt.plot(history_nadam.history['val_loss'], label = 'history_nadam')\n",
        "plt.plot(history_adagrad.history['val_loss'], label = 'history_adagrad')\n",
        "plt.plot(history_rmsprop.history['val_loss'], label = 'history_rmsprop')\n",
        "\n",
        "# plt.legend(['val_loss'])\n",
        "plt.legend()\n",
        "# model.evaluate(x_test, y_test)"
      ],
      "execution_count": null,
      "outputs": [
        {
          "output_type": "execute_result",
          "data": {
            "text/plain": [
              "<matplotlib.legend.Legend at 0x7faf9585f2d0>"
            ]
          },
          "metadata": {},
          "execution_count": 24
        },
        {
          "output_type": "display_data",
          "data": {
            "image/png": "[encoded data removed]",
            "text/plain": [
              "<Figure size 432x288 with 1 Axes>"
            ]
          },
          "metadata": {
            "needs_background": "light"
          }
        }
      ]
    },
    {
      "cell_type": "code",
      "metadata": {
        "colab": {
          "base_uri": "https://localhost:8080/"
        },
        "id": "3_IS90St98vX",
        "outputId": "af90f575-1ee5-458a-a72e-7c8ba56ace70"
      },
      "source": [
        "from keras.layers import Dropout\n",
        "model = Sequential()\n",
        "model.add(Dense(64, activation='relu', input_shape = (x_train.shape[1],)))\n",
        "model.add(Dense(32, activation='relu'))\n",
        "model.add(Dropout(0.5))\n",
        "model.add(Dense(16, activation='relu'))\n",
        "model.add(Dense(1))\n",
        "model.compile(\n",
        "    optimizer=tf.keras.optimizers.SGD(learning_rate=0.001, momentum=0.9),\n",
        "    loss=['mean_squared_error']\n",
        ")\n",
        "history_sgd = model.fit(\n",
        "    x_train, \n",
        "    y_train, \n",
        "    batch_size=32, \n",
        "    validation_data=(x_test, y_test), \n",
        "    epochs=50\n",
        ")\n"
      ],
      "execution_count": null,
      "outputs": [
        {
          "output_type": "stream",
          "name": "stdout",
          "text": [
            "Epoch 1/50\n",
            "12/12 [==============================] - 1s 19ms/step - loss: 115.2716 - val_loss: 54.8992\n",
            "Epoch 2/50\n",
            "12/12 [==============================] - 0s 4ms/step - loss: 56.2908 - val_loss: 40.2288\n",
            "Epoch 3/50\n",
            "12/12 [==============================] - 0s 5ms/step - loss: 40.1129 - val_loss: 40.4204\n",
            "Epoch 4/50\n",
            "12/12 [==============================] - 0s 4ms/step - loss: 38.3185 - val_loss: 34.3723\n",
            "Epoch 5/50\n",
            "12/12 [==============================] - 0s 4ms/step - loss: 33.9223 - val_loss: 41.1699\n",
            "Epoch 6/50\n",
            "12/12 [==============================] - 0s 5ms/step - loss: 35.3316 - val_loss: 33.1043\n",
            "Epoch 7/50\n",
            "12/12 [==============================] - 0s 6ms/step - loss: 29.4965 - val_loss: 21.7916\n",
            "Epoch 8/50\n",
            "12/12 [==============================] - 0s 5ms/step - loss: 31.7317 - val_loss: 44.4669\n",
            "Epoch 9/50\n",
            "12/12 [==============================] - 0s 4ms/step - loss: 34.2802 - val_loss: 21.5425\n",
            "Epoch 10/50\n",
            "12/12 [==============================] - 0s 5ms/step - loss: 29.9284 - val_loss: 25.1720\n",
            "Epoch 11/50\n",
            "12/12 [==============================] - 0s 4ms/step - loss: 26.7707 - val_loss: 26.2418\n",
            "Epoch 12/50\n",
            "12/12 [==============================] - 0s 5ms/step - loss: 26.5541 - val_loss: 30.2926\n",
            "Epoch 13/50\n",
            "12/12 [==============================] - 0s 4ms/step - loss: 27.8242 - val_loss: 27.5039\n",
            "Epoch 14/50\n",
            "12/12 [==============================] - 0s 4ms/step - loss: 27.3179 - val_loss: 22.4689\n",
            "Epoch 15/50\n",
            "12/12 [==============================] - 0s 5ms/step - loss: 31.3002 - val_loss: 23.9644\n",
            "Epoch 16/50\n",
            "12/12 [==============================] - 0s 4ms/step - loss: 27.3778 - val_loss: 24.3653\n",
            "Epoch 17/50\n",
            "12/12 [==============================] - 0s 5ms/step - loss: 27.4068 - val_loss: 24.4166\n",
            "Epoch 18/50\n",
            "12/12 [==============================] - 0s 5ms/step - loss: 27.3842 - val_loss: 24.2455\n",
            "Epoch 19/50\n",
            "12/12 [==============================] - 0s 5ms/step - loss: 27.4590 - val_loss: 24.1459\n",
            "Epoch 20/50\n",
            "12/12 [==============================] - 0s 6ms/step - loss: 27.3999 - val_loss: 24.3041\n",
            "Epoch 21/50\n",
            "12/12 [==============================] - 0s 5ms/step - loss: 27.3331 - val_loss: 24.2766\n",
            "Epoch 22/50\n",
            "12/12 [==============================] - 0s 5ms/step - loss: 27.3450 - val_loss: 24.1516\n",
            "Epoch 23/50\n",
            "12/12 [==============================] - 0s 4ms/step - loss: 27.3445 - val_loss: 24.3715\n",
            "Epoch 24/50\n",
            "12/12 [==============================] - 0s 4ms/step - loss: 27.3548 - val_loss: 24.3030\n",
            "Epoch 25/50\n",
            "12/12 [==============================] - 0s 5ms/step - loss: 27.6758 - val_loss: 24.1412\n",
            "Epoch 26/50\n",
            "12/12 [==============================] - 0s 3ms/step - loss: 27.3289 - val_loss: 24.5423\n",
            "Epoch 27/50\n",
            "12/12 [==============================] - 0s 5ms/step - loss: 27.3597 - val_loss: 24.3308\n",
            "Epoch 28/50\n",
            "12/12 [==============================] - 0s 5ms/step - loss: 27.3593 - val_loss: 24.2138\n",
            "Epoch 29/50\n",
            "12/12 [==============================] - 0s 5ms/step - loss: 27.3827 - val_loss: 24.2894\n",
            "Epoch 30/50\n",
            "12/12 [==============================] - 0s 5ms/step - loss: 27.4850 - val_loss: 24.1303\n",
            "Epoch 31/50\n",
            "12/12 [==============================] - 0s 5ms/step - loss: 27.2830 - val_loss: 24.3881\n",
            "Epoch 32/50\n",
            "12/12 [==============================] - 0s 5ms/step - loss: 27.5342 - val_loss: 24.3744\n",
            "Epoch 33/50\n",
            "12/12 [==============================] - 0s 5ms/step - loss: 27.4010 - val_loss: 24.1279\n",
            "Epoch 34/50\n",
            "12/12 [==============================] - 0s 6ms/step - loss: 27.3157 - val_loss: 24.2978\n",
            "Epoch 35/50\n",
            "12/12 [==============================] - 0s 4ms/step - loss: 27.4666 - val_loss: 24.2707\n",
            "Epoch 36/50\n",
            "12/12 [==============================] - 0s 5ms/step - loss: 27.3308 - val_loss: 24.2918\n",
            "Epoch 37/50\n",
            "12/12 [==============================] - 0s 5ms/step - loss: 27.4217 - val_loss: 24.4061\n",
            "Epoch 38/50\n",
            "12/12 [==============================] - 0s 5ms/step - loss: 27.3727 - val_loss: 24.1539\n",
            "Epoch 39/50\n",
            "12/12 [==============================] - 0s 5ms/step - loss: 27.3740 - val_loss: 24.3130\n",
            "Epoch 40/50\n",
            "12/12 [==============================] - 0s 5ms/step - loss: 27.3757 - val_loss: 24.1790\n",
            "Epoch 41/50\n",
            "12/12 [==============================] - 0s 5ms/step - loss: 27.3664 - val_loss: 24.1588\n",
            "Epoch 42/50\n",
            "12/12 [==============================] - 0s 5ms/step - loss: 27.2953 - val_loss: 24.3299\n",
            "Epoch 43/50\n",
            "12/12 [==============================] - 0s 3ms/step - loss: 27.3353 - val_loss: 24.3124\n",
            "Epoch 44/50\n",
            "12/12 [==============================] - 0s 4ms/step - loss: 27.3680 - val_loss: 24.2262\n",
            "Epoch 45/50\n",
            "12/12 [==============================] - 0s 5ms/step - loss: 27.3684 - val_loss: 24.2368\n",
            "Epoch 46/50\n",
            "12/12 [==============================] - 0s 3ms/step - loss: 27.3186 - val_loss: 24.4058\n",
            "Epoch 47/50\n",
            "12/12 [==============================] - 0s 5ms/step - loss: 27.3158 - val_loss: 24.3347\n",
            "Epoch 48/50\n",
            "12/12 [==============================] - 0s 5ms/step - loss: 27.3289 - val_loss: 24.1965\n",
            "Epoch 49/50\n",
            "12/12 [==============================] - 0s 5ms/step - loss: 27.4969 - val_loss: 24.3471\n",
            "Epoch 50/50\n",
            "12/12 [==============================] - 0s 5ms/step - loss: 27.2605 - val_loss: 24.1559\n"
          ]
        }
      ]
    },
    {
      "cell_type": "code",
      "metadata": {
        "id": "gSKGLDGi98sS"
      },
      "source": [
        ""
      ],
      "execution_count": null,
      "outputs": []
    },
    {
      "cell_type": "code",
      "metadata": {
        "colab": {
          "base_uri": "https://localhost:8080/"
        },
        "id": "ScfUv1Ub98i_",
        "outputId": "d4474b27-2d29-48e8-9ecc-0231b12ab717"
      },
      "source": [
        "from keras.layers import Dropout\n",
        "model = Sequential()\n",
        "model.add(Dense(64, activation='relu', input_shape = (x_train.shape[1],)))\n",
        "model.add(Dense(32, activation='relu'))\n",
        "model.add(Dropout(0.5))\n",
        "model.add(Dense(16, activation='relu'))\n",
        "model.add(Dense(1))\n",
        "model.compile(\n",
        "    optimizer=tf.keras.optimizers.SGD(learning_rate=0.001, momentum=0.9),\n",
        "    loss=['mean_squared_error']\n",
        ")\n",
        "history_sgd = model.fit(\n",
        "    X_train_minmax, \n",
        "    y_train, \n",
        "    batch_size=32, \n",
        "    validation_data=(X_test_minmax, y_test), \n",
        "    epochs=50\n",
        ")\n"
      ],
      "execution_count": null,
      "outputs": [
        {
          "output_type": "stream",
          "name": "stdout",
          "text": [
            "Epoch 1/50\n",
            "12/12 [==============================] - 1s 17ms/step - loss: 91.4906 - val_loss: 45.5453\n",
            "Epoch 2/50\n",
            "12/12 [==============================] - 0s 6ms/step - loss: 38.1951 - val_loss: 32.7547\n",
            "Epoch 3/50\n",
            "12/12 [==============================] - 0s 3ms/step - loss: 30.9200 - val_loss: 21.3858\n",
            "Epoch 4/50\n",
            "12/12 [==============================] - 0s 5ms/step - loss: 27.9882 - val_loss: 21.3735\n",
            "Epoch 5/50\n",
            "12/12 [==============================] - 0s 4ms/step - loss: 25.7867 - val_loss: 20.5837\n",
            "Epoch 6/50\n",
            "12/12 [==============================] - 0s 5ms/step - loss: 24.8672 - val_loss: 19.3744\n",
            "Epoch 7/50\n",
            "12/12 [==============================] - 0s 5ms/step - loss: 25.1875 - val_loss: 19.2464\n",
            "Epoch 8/50\n",
            "12/12 [==============================] - 0s 4ms/step - loss: 24.8043 - val_loss: 19.8315\n",
            "Epoch 9/50\n",
            "12/12 [==============================] - 0s 4ms/step - loss: 24.7525 - val_loss: 18.6324\n",
            "Epoch 10/50\n",
            "12/12 [==============================] - 0s 5ms/step - loss: 24.5000 - val_loss: 18.2274\n",
            "Epoch 11/50\n",
            "12/12 [==============================] - 0s 4ms/step - loss: 24.7130 - val_loss: 20.0928\n",
            "Epoch 12/50\n",
            "12/12 [==============================] - 0s 4ms/step - loss: 23.5813 - val_loss: 18.2602\n",
            "Epoch 13/50\n",
            "12/12 [==============================] - 0s 5ms/step - loss: 24.1792 - val_loss: 17.4783\n",
            "Epoch 14/50\n",
            "12/12 [==============================] - 0s 5ms/step - loss: 22.8919 - val_loss: 17.5179\n",
            "Epoch 15/50\n",
            "12/12 [==============================] - 0s 5ms/step - loss: 23.1963 - val_loss: 19.7831\n",
            "Epoch 16/50\n",
            "12/12 [==============================] - 0s 4ms/step - loss: 22.9502 - val_loss: 17.5222\n",
            "Epoch 17/50\n",
            "12/12 [==============================] - 0s 4ms/step - loss: 22.2578 - val_loss: 16.4960\n",
            "Epoch 18/50\n",
            "12/12 [==============================] - 0s 5ms/step - loss: 21.6209 - val_loss: 16.3326\n",
            "Epoch 19/50\n",
            "12/12 [==============================] - 0s 5ms/step - loss: 21.6599 - val_loss: 16.3014\n",
            "Epoch 20/50\n",
            "12/12 [==============================] - 0s 5ms/step - loss: 21.1109 - val_loss: 19.2609\n",
            "Epoch 21/50\n",
            "12/12 [==============================] - 0s 5ms/step - loss: 21.1695 - val_loss: 17.5505\n",
            "Epoch 22/50\n",
            "12/12 [==============================] - 0s 4ms/step - loss: 20.1738 - val_loss: 16.3147\n",
            "Epoch 23/50\n",
            "12/12 [==============================] - 0s 5ms/step - loss: 21.9002 - val_loss: 17.1230\n",
            "Epoch 24/50\n",
            "12/12 [==============================] - 0s 5ms/step - loss: 21.9331 - val_loss: 15.8812\n",
            "Epoch 25/50\n",
            "12/12 [==============================] - 0s 5ms/step - loss: 21.0710 - val_loss: 16.4583\n",
            "Epoch 26/50\n",
            "12/12 [==============================] - 0s 5ms/step - loss: 20.9046 - val_loss: 19.0689\n",
            "Epoch 27/50\n",
            "12/12 [==============================] - 0s 4ms/step - loss: 21.9022 - val_loss: 16.0155\n",
            "Epoch 28/50\n",
            "12/12 [==============================] - 0s 5ms/step - loss: 19.8918 - val_loss: 15.9547\n",
            "Epoch 29/50\n",
            "12/12 [==============================] - 0s 5ms/step - loss: 20.3226 - val_loss: 16.0142\n",
            "Epoch 30/50\n",
            "12/12 [==============================] - 0s 3ms/step - loss: 20.7094 - val_loss: 16.1475\n",
            "Epoch 31/50\n",
            "12/12 [==============================] - 0s 5ms/step - loss: 23.1947 - val_loss: 22.0303\n",
            "Epoch 32/50\n",
            "12/12 [==============================] - 0s 4ms/step - loss: 29.0345 - val_loss: 23.1064\n",
            "Epoch 33/50\n",
            "12/12 [==============================] - 0s 6ms/step - loss: 26.1240 - val_loss: 20.7261\n",
            "Epoch 34/50\n",
            "12/12 [==============================] - 0s 4ms/step - loss: 23.1774 - val_loss: 16.9287\n",
            "Epoch 35/50\n",
            "12/12 [==============================] - 0s 3ms/step - loss: 21.7883 - val_loss: 15.9929\n",
            "Epoch 36/50\n",
            "12/12 [==============================] - 0s 5ms/step - loss: 21.4874 - val_loss: 15.7483\n",
            "Epoch 37/50\n",
            "12/12 [==============================] - 0s 4ms/step - loss: 20.5254 - val_loss: 16.5353\n",
            "Epoch 38/50\n",
            "12/12 [==============================] - 0s 4ms/step - loss: 20.7398 - val_loss: 17.2973\n",
            "Epoch 39/50\n",
            "12/12 [==============================] - 0s 4ms/step - loss: 22.4570 - val_loss: 16.9873\n",
            "Epoch 40/50\n",
            "12/12 [==============================] - 0s 4ms/step - loss: 21.4668 - val_loss: 16.6712\n",
            "Epoch 41/50\n",
            "12/12 [==============================] - 0s 4ms/step - loss: 21.6435 - val_loss: 16.0796\n",
            "Epoch 42/50\n",
            "12/12 [==============================] - 0s 4ms/step - loss: 20.2624 - val_loss: 15.8984\n",
            "Epoch 43/50\n",
            "12/12 [==============================] - 0s 3ms/step - loss: 20.7322 - val_loss: 15.9904\n",
            "Epoch 44/50\n",
            "12/12 [==============================] - 0s 4ms/step - loss: 19.6790 - val_loss: 16.4391\n",
            "Epoch 45/50\n",
            "12/12 [==============================] - 0s 5ms/step - loss: 20.6329 - val_loss: 19.3236\n",
            "Epoch 46/50\n",
            "12/12 [==============================] - 0s 4ms/step - loss: 20.8955 - val_loss: 17.2722\n",
            "Epoch 47/50\n",
            "12/12 [==============================] - 0s 4ms/step - loss: 20.0718 - val_loss: 16.8347\n",
            "Epoch 48/50\n",
            "12/12 [==============================] - 0s 5ms/step - loss: 20.1330 - val_loss: 16.6960\n",
            "Epoch 49/50\n",
            "12/12 [==============================] - 0s 5ms/step - loss: 18.8688 - val_loss: 16.8349\n",
            "Epoch 50/50\n",
            "12/12 [==============================] - 0s 5ms/step - loss: 19.8088 - val_loss: 16.6202\n"
          ]
        }
      ]
    },
    {
      "cell_type": "markdown",
      "metadata": {
        "id": "8S7B38YxQDzk"
      },
      "source": [
        "# Task 2 \n",
        "## Tips Dataset"
      ]
    },
    {
      "cell_type": "code",
      "metadata": {
        "colab": {
          "base_uri": "https://localhost:8080/",
          "height": 419
        },
        "id": "2T0pPr6OQJa3",
        "outputId": "2f1369b8-cb26-4f56-f906-f8a438cba336"
      },
      "source": [
        "tips"
      ],
      "execution_count": null,
      "outputs": [
        {
          "output_type": "execute_result",
          "data": {
            "text/html": [
              "<div>\n",
              "<style scoped>\n",
              "    .dataframe tbody tr th:only-of-type {\n",
              "        vertical-align: middle;\n",
              "    }\n",
              "\n",
              "    .dataframe tbody tr th {\n",
              "        vertical-align: top;\n",
              "    }\n",
              "\n",
              "    .dataframe thead th {\n",
              "        text-align: right;\n",
              "    }\n",
              "</style>\n",
              "<table border=\"1\" class=\"dataframe\">\n",
              "  <thead>\n",
              "    <tr style=\"text-align: right;\">\n",
              "      <th></th>\n",
              "      <th>total_bill</th>\n",
              "      <th>tip</th>\n",
              "      <th>sex</th>\n",
              "      <th>smoker</th>\n",
              "      <th>day</th>\n",
              "      <th>time</th>\n",
              "      <th>size</th>\n",
              "      <th>sex_cat</th>\n",
              "      <th>smoker_cat</th>\n",
              "      <th>day_cat</th>\n",
              "      <th>time_cat</th>\n",
              "    </tr>\n",
              "  </thead>\n",
              "  <tbody>\n",
              "    <tr>\n",
              "      <th>0</th>\n",
              "      <td>16.99</td>\n",
              "      <td>1.01</td>\n",
              "      <td>Female</td>\n",
              "      <td>No</td>\n",
              "      <td>Sun</td>\n",
              "      <td>Dinner</td>\n",
              "      <td>2</td>\n",
              "      <td>0.0</td>\n",
              "      <td>0.0</td>\n",
              "      <td>2.0</td>\n",
              "      <td>0.0</td>\n",
              "    </tr>\n",
              "    <tr>\n",
              "      <th>1</th>\n",
              "      <td>10.34</td>\n",
              "      <td>1.66</td>\n",
              "      <td>Male</td>\n",
              "      <td>No</td>\n",
              "      <td>Sun</td>\n",
              "      <td>Dinner</td>\n",
              "      <td>3</td>\n",
              "      <td>1.0</td>\n",
              "      <td>0.0</td>\n",
              "      <td>2.0</td>\n",
              "      <td>0.0</td>\n",
              "    </tr>\n",
              "    <tr>\n",
              "      <th>2</th>\n",
              "      <td>21.01</td>\n",
              "      <td>3.50</td>\n",
              "      <td>Male</td>\n",
              "      <td>No</td>\n",
              "      <td>Sun</td>\n",
              "      <td>Dinner</td>\n",
              "      <td>3</td>\n",
              "      <td>1.0</td>\n",
              "      <td>0.0</td>\n",
              "      <td>2.0</td>\n",
              "      <td>0.0</td>\n",
              "    </tr>\n",
              "    <tr>\n",
              "      <th>3</th>\n",
              "      <td>23.68</td>\n",
              "      <td>3.31</td>\n",
              "      <td>Male</td>\n",
              "      <td>No</td>\n",
              "      <td>Sun</td>\n",
              "      <td>Dinner</td>\n",
              "      <td>2</td>\n",
              "      <td>1.0</td>\n",
              "      <td>0.0</td>\n",
              "      <td>2.0</td>\n",
              "      <td>0.0</td>\n",
              "    </tr>\n",
              "    <tr>\n",
              "      <th>4</th>\n",
              "      <td>24.59</td>\n",
              "      <td>3.61</td>\n",
              "      <td>Female</td>\n",
              "      <td>No</td>\n",
              "      <td>Sun</td>\n",
              "      <td>Dinner</td>\n",
              "      <td>4</td>\n",
              "      <td>0.0</td>\n",
              "      <td>0.0</td>\n",
              "      <td>2.0</td>\n",
              "      <td>0.0</td>\n",
              "    </tr>\n",
              "    <tr>\n",
              "      <th>...</th>\n",
              "      <td>...</td>\n",
              "      <td>...</td>\n",
              "      <td>...</td>\n",
              "      <td>...</td>\n",
              "      <td>...</td>\n",
              "      <td>...</td>\n",
              "      <td>...</td>\n",
              "      <td>...</td>\n",
              "      <td>...</td>\n",
              "      <td>...</td>\n",
              "      <td>...</td>\n",
              "    </tr>\n",
              "    <tr>\n",
              "      <th>239</th>\n",
              "      <td>29.03</td>\n",
              "      <td>5.92</td>\n",
              "      <td>Male</td>\n",
              "      <td>No</td>\n",
              "      <td>Sat</td>\n",
              "      <td>Dinner</td>\n",
              "      <td>3</td>\n",
              "      <td>1.0</td>\n",
              "      <td>0.0</td>\n",
              "      <td>1.0</td>\n",
              "      <td>0.0</td>\n",
              "    </tr>\n",
              "    <tr>\n",
              "      <th>240</th>\n",
              "      <td>27.18</td>\n",
              "      <td>2.00</td>\n",
              "      <td>Female</td>\n",
              "      <td>Yes</td>\n",
              "      <td>Sat</td>\n",
              "      <td>Dinner</td>\n",
              "      <td>2</td>\n",
              "      <td>0.0</td>\n",
              "      <td>1.0</td>\n",
              "      <td>1.0</td>\n",
              "      <td>0.0</td>\n",
              "    </tr>\n",
              "    <tr>\n",
              "      <th>241</th>\n",
              "      <td>22.67</td>\n",
              "      <td>2.00</td>\n",
              "      <td>Male</td>\n",
              "      <td>Yes</td>\n",
              "      <td>Sat</td>\n",
              "      <td>Dinner</td>\n",
              "      <td>2</td>\n",
              "      <td>1.0</td>\n",
              "      <td>1.0</td>\n",
              "      <td>1.0</td>\n",
              "      <td>0.0</td>\n",
              "    </tr>\n",
              "    <tr>\n",
              "      <th>242</th>\n",
              "      <td>17.82</td>\n",
              "      <td>1.75</td>\n",
              "      <td>Male</td>\n",
              "      <td>No</td>\n",
              "      <td>Sat</td>\n",
              "      <td>Dinner</td>\n",
              "      <td>2</td>\n",
              "      <td>1.0</td>\n",
              "      <td>0.0</td>\n",
              "      <td>1.0</td>\n",
              "      <td>0.0</td>\n",
              "    </tr>\n",
              "    <tr>\n",
              "      <th>243</th>\n",
              "      <td>18.78</td>\n",
              "      <td>3.00</td>\n",
              "      <td>Female</td>\n",
              "      <td>No</td>\n",
              "      <td>Thur</td>\n",
              "      <td>Dinner</td>\n",
              "      <td>2</td>\n",
              "      <td>0.0</td>\n",
              "      <td>0.0</td>\n",
              "      <td>3.0</td>\n",
              "      <td>0.0</td>\n",
              "    </tr>\n",
              "  </tbody>\n",
              "</table>\n",
              "<p>244 rows × 11 columns</p>\n",
              "</div>"
            ],
            "text/plain": [
              "     total_bill   tip     sex smoker  ... sex_cat smoker_cat  day_cat  time_cat\n",
              "0         16.99  1.01  Female     No  ...     0.0        0.0      2.0       0.0\n",
              "1         10.34  1.66    Male     No  ...     1.0        0.0      2.0       0.0\n",
              "2         21.01  3.50    Male     No  ...     1.0        0.0      2.0       0.0\n",
              "3         23.68  3.31    Male     No  ...     1.0        0.0      2.0       0.0\n",
              "4         24.59  3.61  Female     No  ...     0.0        0.0      2.0       0.0\n",
              "..          ...   ...     ...    ...  ...     ...        ...      ...       ...\n",
              "239       29.03  5.92    Male     No  ...     1.0        0.0      1.0       0.0\n",
              "240       27.18  2.00  Female    Yes  ...     0.0        1.0      1.0       0.0\n",
              "241       22.67  2.00    Male    Yes  ...     1.0        1.0      1.0       0.0\n",
              "242       17.82  1.75    Male     No  ...     1.0        0.0      1.0       0.0\n",
              "243       18.78  3.00  Female     No  ...     0.0        0.0      3.0       0.0\n",
              "\n",
              "[244 rows x 11 columns]"
            ]
          },
          "metadata": {},
          "execution_count": 36
        }
      ]
    },
    {
      "cell_type": "code",
      "metadata": {
        "id": "ikDnb7J1QLuU"
      },
      "source": [
        "y = tips['tip']\n",
        "x = tips.drop(columns=['tip', 'sex', 'smoker', 'day', 'time'])"
      ],
      "execution_count": null,
      "outputs": []
    },
    {
      "cell_type": "code",
      "metadata": {
        "colab": {
          "base_uri": "https://localhost:8080/",
          "height": 419
        },
        "id": "3WiAvpzbQSoY",
        "outputId": "471dd506-740e-4b67-92c6-6803b0e2fd40"
      },
      "source": [
        "x"
      ],
      "execution_count": null,
      "outputs": [
        {
          "output_type": "execute_result",
          "data": {
            "text/html": [
              "<div>\n",
              "<style scoped>\n",
              "    .dataframe tbody tr th:only-of-type {\n",
              "        vertical-align: middle;\n",
              "    }\n",
              "\n",
              "    .dataframe tbody tr th {\n",
              "        vertical-align: top;\n",
              "    }\n",
              "\n",
              "    .dataframe thead th {\n",
              "        text-align: right;\n",
              "    }\n",
              "</style>\n",
              "<table border=\"1\" class=\"dataframe\">\n",
              "  <thead>\n",
              "    <tr style=\"text-align: right;\">\n",
              "      <th></th>\n",
              "      <th>total_bill</th>\n",
              "      <th>size</th>\n",
              "      <th>sex_cat</th>\n",
              "      <th>smoker_cat</th>\n",
              "      <th>day_cat</th>\n",
              "      <th>time_cat</th>\n",
              "    </tr>\n",
              "  </thead>\n",
              "  <tbody>\n",
              "    <tr>\n",
              "      <th>0</th>\n",
              "      <td>16.99</td>\n",
              "      <td>2</td>\n",
              "      <td>0.0</td>\n",
              "      <td>0.0</td>\n",
              "      <td>2.0</td>\n",
              "      <td>0.0</td>\n",
              "    </tr>\n",
              "    <tr>\n",
              "      <th>1</th>\n",
              "      <td>10.34</td>\n",
              "      <td>3</td>\n",
              "      <td>1.0</td>\n",
              "      <td>0.0</td>\n",
              "      <td>2.0</td>\n",
              "      <td>0.0</td>\n",
              "    </tr>\n",
              "    <tr>\n",
              "      <th>2</th>\n",
              "      <td>21.01</td>\n",
              "      <td>3</td>\n",
              "      <td>1.0</td>\n",
              "      <td>0.0</td>\n",
              "      <td>2.0</td>\n",
              "      <td>0.0</td>\n",
              "    </tr>\n",
              "    <tr>\n",
              "      <th>3</th>\n",
              "      <td>23.68</td>\n",
              "      <td>2</td>\n",
              "      <td>1.0</td>\n",
              "      <td>0.0</td>\n",
              "      <td>2.0</td>\n",
              "      <td>0.0</td>\n",
              "    </tr>\n",
              "    <tr>\n",
              "      <th>4</th>\n",
              "      <td>24.59</td>\n",
              "      <td>4</td>\n",
              "      <td>0.0</td>\n",
              "      <td>0.0</td>\n",
              "      <td>2.0</td>\n",
              "      <td>0.0</td>\n",
              "    </tr>\n",
              "    <tr>\n",
              "      <th>...</th>\n",
              "      <td>...</td>\n",
              "      <td>...</td>\n",
              "      <td>...</td>\n",
              "      <td>...</td>\n",
              "      <td>...</td>\n",
              "      <td>...</td>\n",
              "    </tr>\n",
              "    <tr>\n",
              "      <th>239</th>\n",
              "      <td>29.03</td>\n",
              "      <td>3</td>\n",
              "      <td>1.0</td>\n",
              "      <td>0.0</td>\n",
              "      <td>1.0</td>\n",
              "      <td>0.0</td>\n",
              "    </tr>\n",
              "    <tr>\n",
              "      <th>240</th>\n",
              "      <td>27.18</td>\n",
              "      <td>2</td>\n",
              "      <td>0.0</td>\n",
              "      <td>1.0</td>\n",
              "      <td>1.0</td>\n",
              "      <td>0.0</td>\n",
              "    </tr>\n",
              "    <tr>\n",
              "      <th>241</th>\n",
              "      <td>22.67</td>\n",
              "      <td>2</td>\n",
              "      <td>1.0</td>\n",
              "      <td>1.0</td>\n",
              "      <td>1.0</td>\n",
              "      <td>0.0</td>\n",
              "    </tr>\n",
              "    <tr>\n",
              "      <th>242</th>\n",
              "      <td>17.82</td>\n",
              "      <td>2</td>\n",
              "      <td>1.0</td>\n",
              "      <td>0.0</td>\n",
              "      <td>1.0</td>\n",
              "      <td>0.0</td>\n",
              "    </tr>\n",
              "    <tr>\n",
              "      <th>243</th>\n",
              "      <td>18.78</td>\n",
              "      <td>2</td>\n",
              "      <td>0.0</td>\n",
              "      <td>0.0</td>\n",
              "      <td>3.0</td>\n",
              "      <td>0.0</td>\n",
              "    </tr>\n",
              "  </tbody>\n",
              "</table>\n",
              "<p>244 rows × 6 columns</p>\n",
              "</div>"
            ],
            "text/plain": [
              "     total_bill  size  sex_cat  smoker_cat  day_cat  time_cat\n",
              "0         16.99     2      0.0         0.0      2.0       0.0\n",
              "1         10.34     3      1.0         0.0      2.0       0.0\n",
              "2         21.01     3      1.0         0.0      2.0       0.0\n",
              "3         23.68     2      1.0         0.0      2.0       0.0\n",
              "4         24.59     4      0.0         0.0      2.0       0.0\n",
              "..          ...   ...      ...         ...      ...       ...\n",
              "239       29.03     3      1.0         0.0      1.0       0.0\n",
              "240       27.18     2      0.0         1.0      1.0       0.0\n",
              "241       22.67     2      1.0         1.0      1.0       0.0\n",
              "242       17.82     2      1.0         0.0      1.0       0.0\n",
              "243       18.78     2      0.0         0.0      3.0       0.0\n",
              "\n",
              "[244 rows x 6 columns]"
            ]
          },
          "metadata": {},
          "execution_count": 38
        }
      ]
    },
    {
      "cell_type": "code",
      "metadata": {
        "id": "d4BRmu0zQHxx"
      },
      "source": [
        "x_train, x_test, y_train, y_test = train_test_split(x, y, test_size = 25)\n",
        "\n",
        "x_train = x_train.astype('float32')\n",
        "y_train = y_train.astype('float32')\n",
        "x_test = x_test.astype('float32')\n",
        "y_test = y_test.astype('float32')"
      ],
      "execution_count": null,
      "outputs": []
    },
    {
      "cell_type": "code",
      "metadata": {
        "colab": {
          "base_uri": "https://localhost:8080/"
        },
        "id": "dg6QAyhtQIDT",
        "outputId": "9e3a6043-b0ba-4c1f-b78e-5542f95a2133"
      },
      "source": [
        "model = Sequential()\n",
        "model.add(Dense(64, activation='relu', input_shape = (x_train.shape[1],)))\n",
        "model.add(Dense(32, activation='relu'))\n",
        "model.add(Dense(16, activation='relu'))\n",
        "model.add(Dense(1))\n",
        "model.compile(\n",
        "    optimizer='adam',\n",
        "    loss=['mean_absolute_error']\n",
        ")\n",
        "hist = model.fit(\n",
        "    x_train, \n",
        "    y_train, \n",
        "    batch_size=32, \n",
        "    validation_data=(x_test, y_test), \n",
        "    epochs=10\n",
        ")\n"
      ],
      "execution_count": null,
      "outputs": [
        {
          "output_type": "stream",
          "name": "stdout",
          "text": [
            "Epoch 1/10\n",
            "7/7 [==============================] - 1s 27ms/step - loss: 1.4261 - val_loss: 0.7027\n",
            "Epoch 2/10\n",
            "7/7 [==============================] - 0s 5ms/step - loss: 1.0030 - val_loss: 0.7148\n",
            "Epoch 3/10\n",
            "7/7 [==============================] - 0s 5ms/step - loss: 0.8136 - val_loss: 0.8185\n",
            "Epoch 4/10\n",
            "7/7 [==============================] - 0s 5ms/step - loss: 0.8664 - val_loss: 0.7610\n",
            "Epoch 5/10\n",
            "7/7 [==============================] - 0s 5ms/step - loss: 0.7947 - val_loss: 0.6925\n",
            "Epoch 6/10\n",
            "7/7 [==============================] - 0s 6ms/step - loss: 0.7986 - val_loss: 0.6948\n",
            "Epoch 7/10\n",
            "7/7 [==============================] - 0s 5ms/step - loss: 0.7796 - val_loss: 0.6903\n",
            "Epoch 8/10\n",
            "7/7 [==============================] - 0s 5ms/step - loss: 0.7763 - val_loss: 0.6814\n",
            "Epoch 9/10\n",
            "7/7 [==============================] - 0s 5ms/step - loss: 0.7706 - val_loss: 0.6816\n",
            "Epoch 10/10\n",
            "7/7 [==============================] - 0s 6ms/step - loss: 0.7758 - val_loss: 0.6855\n"
          ]
        }
      ]
    },
    {
      "cell_type": "code",
      "metadata": {
        "id": "fX-IsyEMQIA1"
      },
      "source": [
        "import pandas as pd\n",
        "y_train = [1,2,3,4,5,6,7,8,9,10]\n",
        "# y_train = pd.cut(y_train, [1, 4, 10], labels = [1,2])"
      ],
      "execution_count": null,
      "outputs": []
    },
    {
      "cell_type": "code",
      "metadata": {
        "id": "lITH1QELph82",
        "colab": {
          "base_uri": "https://localhost:8080/"
        },
        "outputId": "8d7a8b26-ed55-4d62-f370-9a5f89090539"
      },
      "source": [
        "y_test.max(), y_test.min()"
      ],
      "execution_count": null,
      "outputs": [
        {
          "output_type": "execute_result",
          "data": {
            "text/plain": [
              "(44.5, 1.0)"
            ]
          },
          "metadata": {},
          "execution_count": 83
        }
      ]
    },
    {
      "cell_type": "code",
      "metadata": {
        "colab": {
          "base_uri": "https://localhost:8080/"
        },
        "id": "OAOwdrOggsM0",
        "outputId": "6af863c3-7749-4d09-81cf-e0002894fa78"
      },
      "source": [
        "y_train.min(), y_train.max()"
      ],
      "execution_count": null,
      "outputs": [
        {
          "output_type": "execute_result",
          "data": {
            "text/plain": [
              "(1.75, 26.29)"
            ]
          },
          "metadata": {},
          "execution_count": 82
        }
      ]
    },
    {
      "cell_type": "code",
      "metadata": {
        "id": "g1ZcULt6qAFB"
      },
      "source": [
        "# y_train = pd.cut(\n",
        "#     y_train, \n",
        "#     [min(y_train) - 1, (min(y_train) + max(y_train))/2, max(y_train)+ 1],\n",
        "#     labels=[1, 2]\n",
        "# )\n",
        "# y_test = pd.cut(\n",
        "#     y_test, \n",
        "#     [min(y_test) - 1, (min(y_test) + max(y_test))/2, max(y_test)+ 1],\n",
        "#     labels=[1, 2]\n",
        "# )\n",
        "\n",
        "vals = [0, 10, 45]\n",
        "y_train = pd.cut(y_train, vals, labels=[0,1])\n",
        "y_test = pd.cut(y_test, vals, labels=[0,1])"
      ],
      "execution_count": null,
      "outputs": []
    },
    {
      "cell_type": "code",
      "metadata": {
        "colab": {
          "base_uri": "https://localhost:8080/"
        },
        "id": "Nlg3XQs8h2J5",
        "outputId": "6acf04b2-add9-4b48-a227-2682650e75a0"
      },
      "source": [
        "sum(y_test)"
      ],
      "execution_count": null,
      "outputs": [
        {
          "output_type": "execute_result",
          "data": {
            "text/plain": [
              "49"
            ]
          },
          "metadata": {},
          "execution_count": 133
        }
      ]
    },
    {
      "cell_type": "code",
      "metadata": {
        "id": "8W_x0uB7Usvw"
      },
      "source": [
        "y_train = y_train.astype('float32')\n",
        "y_test = y_test.astype('float32')"
      ],
      "execution_count": null,
      "outputs": []
    },
    {
      "cell_type": "code",
      "metadata": {
        "id": "SIk-auw0VCfs"
      },
      "source": [
        "y_test = y_test.fillna(1.0)"
      ],
      "execution_count": null,
      "outputs": []
    },
    {
      "cell_type": "code",
      "metadata": {
        "id": "H46BZx7Gp__3",
        "colab": {
          "base_uri": "https://localhost:8080/"
        },
        "outputId": "3782f31d-c098-402c-fef6-1ee3d7c15481"
      },
      "source": [
        "model = Sequential()\n",
        "model.add(Dense(64, activation='relu', input_shape = (x_train.shape[1],)))\n",
        "model.add(Dense(32, activation='relu'))\n",
        "model.add(Dense(16, activation='relu'))\n",
        "model.add(Dense(1, activation='sigmoid'))\n",
        "model.compile(\n",
        "    optimizer='Adam',\n",
        "    loss=['binary_crossentropy'],\n",
        "    metrics=['Accuracy']\n",
        ")\n",
        "hist = model.fit(\n",
        "    x_train, \n",
        "    y_train, \n",
        "    batch_size=32, \n",
        "    validation_data=(x_test, y_test), \n",
        "    epochs=10\n",
        ")\n"
      ],
      "execution_count": null,
      "outputs": [
        {
          "output_type": "stream",
          "name": "stdout",
          "text": [
            "Epoch 1/10\n",
            "12/12 [==============================] - 1s 22ms/step - loss: 0.6893 - Accuracy: 0.6515 - val_loss: 0.6980 - val_Accuracy: 0.5031\n",
            "Epoch 2/10\n",
            "12/12 [==============================] - 0s 4ms/step - loss: 0.6492 - Accuracy: 0.6863 - val_loss: 0.6360 - val_Accuracy: 0.6708\n",
            "Epoch 3/10\n",
            "12/12 [==============================] - 0s 4ms/step - loss: 0.6141 - Accuracy: 0.6542 - val_loss: 0.6295 - val_Accuracy: 0.6957\n",
            "Epoch 4/10\n",
            "12/12 [==============================] - 0s 5ms/step - loss: 0.6263 - Accuracy: 0.6863 - val_loss: 0.6341 - val_Accuracy: 0.6957\n",
            "Epoch 5/10\n",
            "12/12 [==============================] - 0s 6ms/step - loss: 0.6411 - Accuracy: 0.6890 - val_loss: 0.6013 - val_Accuracy: 0.6957\n",
            "Epoch 6/10\n",
            "12/12 [==============================] - 0s 4ms/step - loss: 0.6037 - Accuracy: 0.6971 - val_loss: 0.5987 - val_Accuracy: 0.7081\n",
            "Epoch 7/10\n",
            "12/12 [==============================] - 0s 5ms/step - loss: 0.6023 - Accuracy: 0.6917 - val_loss: 0.5991 - val_Accuracy: 0.6957\n",
            "Epoch 8/10\n",
            "12/12 [==============================] - 0s 5ms/step - loss: 0.6036 - Accuracy: 0.7024 - val_loss: 0.5879 - val_Accuracy: 0.6957\n",
            "Epoch 9/10\n",
            "12/12 [==============================] - 0s 5ms/step - loss: 0.5796 - Accuracy: 0.7105 - val_loss: 0.5871 - val_Accuracy: 0.7019\n",
            "Epoch 10/10\n",
            "12/12 [==============================] - 0s 6ms/step - loss: 0.5808 - Accuracy: 0.6944 - val_loss: 0.6410 - val_Accuracy: 0.6398\n"
          ]
        }
      ]
    },
    {
      "cell_type": "code",
      "metadata": {
        "id": "1vk48QJEp_8N",
        "colab": {
          "base_uri": "https://localhost:8080/"
        },
        "outputId": "c8d1a3c9-3079-4682-d196-616fc378eb2c"
      },
      "source": [
        "loss, accuracy = model.evaluate(x_test)\n",
        "print(\"Accuracy\", accuracy)"
      ],
      "execution_count": null,
      "outputs": [
        {
          "output_type": "stream",
          "name": "stdout",
          "text": [
            "6/6 [==============================] - 0s 2ms/step - loss: 0.0000e+00 - Accuracy: 0.0000e+00\n",
            "Accuracy 0.0\n"
          ]
        }
      ]
    },
    {
      "cell_type": "code",
      "metadata": {
        "id": "Jtl4HJIxe6Zk"
      },
      "source": [
        "from sklearn.metrics import classification_report"
      ],
      "execution_count": null,
      "outputs": []
    },
    {
      "cell_type": "code",
      "metadata": {
        "colab": {
          "base_uri": "https://localhost:8080/"
        },
        "id": "Rki5vx8Pir2r",
        "outputId": "86c5ab34-1abb-45a0-d5f2-b4aa7afbae62"
      },
      "source": [
        "y_test"
      ],
      "execution_count": null,
      "outputs": [
        {
          "output_type": "execute_result",
          "data": {
            "text/plain": [
              "478    0.0\n",
              "276    0.0\n",
              "49     0.0\n",
              "153    0.0\n",
              "20     0.0\n",
              "      ... \n",
              "71     1.0\n",
              "326    0.0\n",
              "183    1.0\n",
              "15     0.0\n",
              "434    0.0\n",
              "Name: wage_per_hour, Length: 161, dtype: float32"
            ]
          },
          "metadata": {},
          "execution_count": 123
        }
      ]
    },
    {
      "cell_type": "code",
      "metadata": {
        "colab": {
          "base_uri": "https://localhost:8080/"
        },
        "id": "kSLr1sfTfZhz",
        "outputId": "01acdbdc-7891-49d9-dbbc-b7d2a9a58d6d"
      },
      "source": [
        "y_pred = model.predict(x_test)\n",
        "y_pred"
      ],
      "execution_count": null,
      "outputs": [
        {
          "output_type": "execute_result",
          "data": {
            "text/plain": [
              "array([[0.5001233 ],\n",
              "       [0.4369471 ],\n",
              "       [0.4759456 ],\n",
              "       [0.6431226 ],\n",
              "       [0.44895884],\n",
              "       [0.6521006 ],\n",
              "       [0.62832695],\n",
              "       [0.2542251 ],\n",
              "       [0.400412  ],\n",
              "       [0.51799583],\n",
              "       [0.10811767],\n",
              "       [0.505358  ],\n",
              "       [0.58153003],\n",
              "       [0.5904379 ],\n",
              "       [0.5099922 ],\n",
              "       [0.66551465],\n",
              "       [0.5670037 ],\n",
              "       [0.6272405 ],\n",
              "       [0.51911163],\n",
              "       [0.33343846],\n",
              "       [0.39474043],\n",
              "       [0.33024862],\n",
              "       [0.37871936],\n",
              "       [0.42539445],\n",
              "       [0.5017892 ],\n",
              "       [0.5942428 ],\n",
              "       [0.6062174 ],\n",
              "       [0.608716  ],\n",
              "       [0.37832445],\n",
              "       [0.37884584],\n",
              "       [0.37797695],\n",
              "       [0.7176659 ],\n",
              "       [0.339808  ],\n",
              "       [0.47576675],\n",
              "       [0.6557911 ],\n",
              "       [0.25612694],\n",
              "       [0.5523059 ],\n",
              "       [0.5002779 ],\n",
              "       [0.5039577 ],\n",
              "       [0.524547  ],\n",
              "       [0.5344761 ],\n",
              "       [0.24817765],\n",
              "       [0.73022056],\n",
              "       [0.3972593 ],\n",
              "       [0.534776  ],\n",
              "       [0.6037697 ],\n",
              "       [0.47731563],\n",
              "       [0.41766742],\n",
              "       [0.48565957],\n",
              "       [0.31654894],\n",
              "       [0.634325  ],\n",
              "       [0.52345496],\n",
              "       [0.36421308],\n",
              "       [0.544713  ],\n",
              "       [0.55132836],\n",
              "       [0.58364147],\n",
              "       [0.51242656],\n",
              "       [0.41142434],\n",
              "       [0.5122741 ],\n",
              "       [0.70677555],\n",
              "       [0.54929215],\n",
              "       [0.3368027 ],\n",
              "       [0.58969903],\n",
              "       [0.56778544],\n",
              "       [0.3905372 ],\n",
              "       [0.32923397],\n",
              "       [0.52635914],\n",
              "       [0.55625796],\n",
              "       [0.2121762 ],\n",
              "       [0.6308886 ],\n",
              "       [0.5955902 ],\n",
              "       [0.5621014 ],\n",
              "       [0.57256913],\n",
              "       [0.48587972],\n",
              "       [0.33067375],\n",
              "       [0.36287743],\n",
              "       [0.4669253 ],\n",
              "       [0.5099922 ],\n",
              "       [0.59384066],\n",
              "       [0.6466793 ],\n",
              "       [0.39088574],\n",
              "       [0.43995395],\n",
              "       [0.28762823],\n",
              "       [0.5174243 ],\n",
              "       [0.38025254],\n",
              "       [0.57173264],\n",
              "       [0.36323172],\n",
              "       [0.5767299 ],\n",
              "       [0.27076292],\n",
              "       [0.49437925],\n",
              "       [0.5323951 ],\n",
              "       [0.53065723],\n",
              "       [0.25267482],\n",
              "       [0.54933506],\n",
              "       [0.4061731 ],\n",
              "       [0.49852872],\n",
              "       [0.5408614 ],\n",
              "       [0.48490423],\n",
              "       [0.47067288],\n",
              "       [0.44209468],\n",
              "       [0.5181046 ],\n",
              "       [0.45951304],\n",
              "       [0.5880182 ],\n",
              "       [0.25114864],\n",
              "       [0.49525264],\n",
              "       [0.58883435],\n",
              "       [0.616911  ],\n",
              "       [0.48587972],\n",
              "       [0.51097864],\n",
              "       [0.4562639 ],\n",
              "       [0.5941564 ],\n",
              "       [0.30638146],\n",
              "       [0.62003434],\n",
              "       [0.39744315],\n",
              "       [0.64012957],\n",
              "       [0.609054  ],\n",
              "       [0.5087356 ],\n",
              "       [0.36843628],\n",
              "       [0.4931352 ],\n",
              "       [0.3707174 ],\n",
              "       [0.5580921 ],\n",
              "       [0.5138347 ],\n",
              "       [0.35915452],\n",
              "       [0.48565957],\n",
              "       [0.55444133],\n",
              "       [0.35908157],\n",
              "       [0.48697144],\n",
              "       [0.5977038 ],\n",
              "       [0.3665754 ],\n",
              "       [0.6215093 ],\n",
              "       [0.32338205],\n",
              "       [0.49931884],\n",
              "       [0.53663266],\n",
              "       [0.52704936],\n",
              "       [0.5240007 ],\n",
              "       [0.56002367],\n",
              "       [0.4072937 ],\n",
              "       [0.44701397],\n",
              "       [0.55837274],\n",
              "       [0.6890354 ],\n",
              "       [0.43387562],\n",
              "       [0.51625884],\n",
              "       [0.6231147 ],\n",
              "       [0.46608326],\n",
              "       [0.5696326 ],\n",
              "       [0.4735461 ],\n",
              "       [0.6330887 ],\n",
              "       [0.53120095],\n",
              "       [0.6456211 ],\n",
              "       [0.5460166 ],\n",
              "       [0.17551222],\n",
              "       [0.2677204 ],\n",
              "       [0.3365543 ],\n",
              "       [0.403604  ],\n",
              "       [0.6068539 ],\n",
              "       [0.5430646 ],\n",
              "       [0.4334607 ],\n",
              "       [0.62888974],\n",
              "       [0.46555412],\n",
              "       [0.6023011 ],\n",
              "       [0.52635914]], dtype=float32)"
            ]
          },
          "metadata": {},
          "execution_count": 138
        }
      ]
    },
    {
      "cell_type": "code",
      "metadata": {
        "id": "W7e4Zo2ihmpD"
      },
      "source": [
        ""
      ],
      "execution_count": null,
      "outputs": []
    },
    {
      "cell_type": "code",
      "metadata": {
        "id": "X1o6B-bdfK09"
      },
      "source": [
        ""
      ],
      "execution_count": null,
      "outputs": []
    }
  ]
}